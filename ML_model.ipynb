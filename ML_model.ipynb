{
  "nbformat": 4,
  "nbformat_minor": 0,
  "metadata": {
    "colab": {
      "provenance": []
    },
    "kernelspec": {
      "name": "python3",
      "display_name": "Python 3"
    },
    "language_info": {
      "name": "python"
    },
    "widgets": {
      "application/vnd.jupyter.widget-state+json": {
        "fcce7b4be6154638b9b04d2e2fc64fd8": {
          "model_module": "@jupyter-widgets/controls",
          "model_name": "HBoxModel",
          "model_module_version": "1.5.0",
          "state": {
            "_dom_classes": [],
            "_model_module": "@jupyter-widgets/controls",
            "_model_module_version": "1.5.0",
            "_model_name": "HBoxModel",
            "_view_count": null,
            "_view_module": "@jupyter-widgets/controls",
            "_view_module_version": "1.5.0",
            "_view_name": "HBoxView",
            "box_style": "",
            "children": [
              "IPY_MODEL_585a0e118bf64c8f97d92b8ac3903c0b",
              "IPY_MODEL_68b0c9f410af44bab2f6a269209bf578",
              "IPY_MODEL_206f880c893e4413b0096603c4d0c4f4"
            ],
            "layout": "IPY_MODEL_20d94ed6faaf4d47b8f953f66805c4b2"
          }
        },
        "585a0e118bf64c8f97d92b8ac3903c0b": {
          "model_module": "@jupyter-widgets/controls",
          "model_name": "HTMLModel",
          "model_module_version": "1.5.0",
          "state": {
            "_dom_classes": [],
            "_model_module": "@jupyter-widgets/controls",
            "_model_module_version": "1.5.0",
            "_model_name": "HTMLModel",
            "_view_count": null,
            "_view_module": "@jupyter-widgets/controls",
            "_view_module_version": "1.5.0",
            "_view_name": "HTMLView",
            "description": "",
            "description_tooltip": null,
            "layout": "IPY_MODEL_a8a4b4646e894045b73efab9f127a565",
            "placeholder": "​",
            "style": "IPY_MODEL_f84d315bc2c44850a7fc44e31836f814",
            "value": "Downloading: 100%"
          }
        },
        "68b0c9f410af44bab2f6a269209bf578": {
          "model_module": "@jupyter-widgets/controls",
          "model_name": "FloatProgressModel",
          "model_module_version": "1.5.0",
          "state": {
            "_dom_classes": [],
            "_model_module": "@jupyter-widgets/controls",
            "_model_module_version": "1.5.0",
            "_model_name": "FloatProgressModel",
            "_view_count": null,
            "_view_module": "@jupyter-widgets/controls",
            "_view_module_version": "1.5.0",
            "_view_name": "ProgressView",
            "bar_style": "success",
            "description": "",
            "description_tooltip": null,
            "layout": "IPY_MODEL_7df6e195d57f42a0bc7a114dc48c492d",
            "max": 1912529,
            "min": 0,
            "orientation": "horizontal",
            "style": "IPY_MODEL_40c2023e491142c684b06a97f40faeaa",
            "value": 1912529
          }
        },
        "206f880c893e4413b0096603c4d0c4f4": {
          "model_module": "@jupyter-widgets/controls",
          "model_name": "HTMLModel",
          "model_module_version": "1.5.0",
          "state": {
            "_dom_classes": [],
            "_model_module": "@jupyter-widgets/controls",
            "_model_module_version": "1.5.0",
            "_model_name": "HTMLModel",
            "_view_count": null,
            "_view_module": "@jupyter-widgets/controls",
            "_view_module_version": "1.5.0",
            "_view_name": "HTMLView",
            "description": "",
            "description_tooltip": null,
            "layout": "IPY_MODEL_6ad0428a18834bcb9d632856150f1abf",
            "placeholder": "​",
            "style": "IPY_MODEL_a30f15191d894783a1074076dc787fcb",
            "value": " 1.91M/1.91M [00:00&lt;00:00, 2.65MB/s]"
          }
        },
        "20d94ed6faaf4d47b8f953f66805c4b2": {
          "model_module": "@jupyter-widgets/base",
          "model_name": "LayoutModel",
          "model_module_version": "1.2.0",
          "state": {
            "_model_module": "@jupyter-widgets/base",
            "_model_module_version": "1.2.0",
            "_model_name": "LayoutModel",
            "_view_count": null,
            "_view_module": "@jupyter-widgets/base",
            "_view_module_version": "1.2.0",
            "_view_name": "LayoutView",
            "align_content": null,
            "align_items": null,
            "align_self": null,
            "border": null,
            "bottom": null,
            "display": null,
            "flex": null,
            "flex_flow": null,
            "grid_area": null,
            "grid_auto_columns": null,
            "grid_auto_flow": null,
            "grid_auto_rows": null,
            "grid_column": null,
            "grid_gap": null,
            "grid_row": null,
            "grid_template_areas": null,
            "grid_template_columns": null,
            "grid_template_rows": null,
            "height": null,
            "justify_content": null,
            "justify_items": null,
            "left": null,
            "margin": null,
            "max_height": null,
            "max_width": null,
            "min_height": null,
            "min_width": null,
            "object_fit": null,
            "object_position": null,
            "order": null,
            "overflow": null,
            "overflow_x": null,
            "overflow_y": null,
            "padding": null,
            "right": null,
            "top": null,
            "visibility": null,
            "width": null
          }
        },
        "a8a4b4646e894045b73efab9f127a565": {
          "model_module": "@jupyter-widgets/base",
          "model_name": "LayoutModel",
          "model_module_version": "1.2.0",
          "state": {
            "_model_module": "@jupyter-widgets/base",
            "_model_module_version": "1.2.0",
            "_model_name": "LayoutModel",
            "_view_count": null,
            "_view_module": "@jupyter-widgets/base",
            "_view_module_version": "1.2.0",
            "_view_name": "LayoutView",
            "align_content": null,
            "align_items": null,
            "align_self": null,
            "border": null,
            "bottom": null,
            "display": null,
            "flex": null,
            "flex_flow": null,
            "grid_area": null,
            "grid_auto_columns": null,
            "grid_auto_flow": null,
            "grid_auto_rows": null,
            "grid_column": null,
            "grid_gap": null,
            "grid_row": null,
            "grid_template_areas": null,
            "grid_template_columns": null,
            "grid_template_rows": null,
            "height": null,
            "justify_content": null,
            "justify_items": null,
            "left": null,
            "margin": null,
            "max_height": null,
            "max_width": null,
            "min_height": null,
            "min_width": null,
            "object_fit": null,
            "object_position": null,
            "order": null,
            "overflow": null,
            "overflow_x": null,
            "overflow_y": null,
            "padding": null,
            "right": null,
            "top": null,
            "visibility": null,
            "width": null
          }
        },
        "f84d315bc2c44850a7fc44e31836f814": {
          "model_module": "@jupyter-widgets/controls",
          "model_name": "DescriptionStyleModel",
          "model_module_version": "1.5.0",
          "state": {
            "_model_module": "@jupyter-widgets/controls",
            "_model_module_version": "1.5.0",
            "_model_name": "DescriptionStyleModel",
            "_view_count": null,
            "_view_module": "@jupyter-widgets/base",
            "_view_module_version": "1.2.0",
            "_view_name": "StyleView",
            "description_width": ""
          }
        },
        "7df6e195d57f42a0bc7a114dc48c492d": {
          "model_module": "@jupyter-widgets/base",
          "model_name": "LayoutModel",
          "model_module_version": "1.2.0",
          "state": {
            "_model_module": "@jupyter-widgets/base",
            "_model_module_version": "1.2.0",
            "_model_name": "LayoutModel",
            "_view_count": null,
            "_view_module": "@jupyter-widgets/base",
            "_view_module_version": "1.2.0",
            "_view_name": "LayoutView",
            "align_content": null,
            "align_items": null,
            "align_self": null,
            "border": null,
            "bottom": null,
            "display": null,
            "flex": null,
            "flex_flow": null,
            "grid_area": null,
            "grid_auto_columns": null,
            "grid_auto_flow": null,
            "grid_auto_rows": null,
            "grid_column": null,
            "grid_gap": null,
            "grid_row": null,
            "grid_template_areas": null,
            "grid_template_columns": null,
            "grid_template_rows": null,
            "height": null,
            "justify_content": null,
            "justify_items": null,
            "left": null,
            "margin": null,
            "max_height": null,
            "max_width": null,
            "min_height": null,
            "min_width": null,
            "object_fit": null,
            "object_position": null,
            "order": null,
            "overflow": null,
            "overflow_x": null,
            "overflow_y": null,
            "padding": null,
            "right": null,
            "top": null,
            "visibility": null,
            "width": null
          }
        },
        "40c2023e491142c684b06a97f40faeaa": {
          "model_module": "@jupyter-widgets/controls",
          "model_name": "ProgressStyleModel",
          "model_module_version": "1.5.0",
          "state": {
            "_model_module": "@jupyter-widgets/controls",
            "_model_module_version": "1.5.0",
            "_model_name": "ProgressStyleModel",
            "_view_count": null,
            "_view_module": "@jupyter-widgets/base",
            "_view_module_version": "1.2.0",
            "_view_name": "StyleView",
            "bar_color": null,
            "description_width": ""
          }
        },
        "6ad0428a18834bcb9d632856150f1abf": {
          "model_module": "@jupyter-widgets/base",
          "model_name": "LayoutModel",
          "model_module_version": "1.2.0",
          "state": {
            "_model_module": "@jupyter-widgets/base",
            "_model_module_version": "1.2.0",
            "_model_name": "LayoutModel",
            "_view_count": null,
            "_view_module": "@jupyter-widgets/base",
            "_view_module_version": "1.2.0",
            "_view_name": "LayoutView",
            "align_content": null,
            "align_items": null,
            "align_self": null,
            "border": null,
            "bottom": null,
            "display": null,
            "flex": null,
            "flex_flow": null,
            "grid_area": null,
            "grid_auto_columns": null,
            "grid_auto_flow": null,
            "grid_auto_rows": null,
            "grid_column": null,
            "grid_gap": null,
            "grid_row": null,
            "grid_template_areas": null,
            "grid_template_columns": null,
            "grid_template_rows": null,
            "height": null,
            "justify_content": null,
            "justify_items": null,
            "left": null,
            "margin": null,
            "max_height": null,
            "max_width": null,
            "min_height": null,
            "min_width": null,
            "object_fit": null,
            "object_position": null,
            "order": null,
            "overflow": null,
            "overflow_x": null,
            "overflow_y": null,
            "padding": null,
            "right": null,
            "top": null,
            "visibility": null,
            "width": null
          }
        },
        "a30f15191d894783a1074076dc787fcb": {
          "model_module": "@jupyter-widgets/controls",
          "model_name": "DescriptionStyleModel",
          "model_module_version": "1.5.0",
          "state": {
            "_model_module": "@jupyter-widgets/controls",
            "_model_module_version": "1.5.0",
            "_model_name": "DescriptionStyleModel",
            "_view_count": null,
            "_view_module": "@jupyter-widgets/base",
            "_view_module_version": "1.2.0",
            "_view_name": "StyleView",
            "description_width": ""
          }
        },
        "ed0cf1b370d643d2a3102d9aec3e18cc": {
          "model_module": "@jupyter-widgets/controls",
          "model_name": "HBoxModel",
          "model_module_version": "1.5.0",
          "state": {
            "_dom_classes": [],
            "_model_module": "@jupyter-widgets/controls",
            "_model_module_version": "1.5.0",
            "_model_name": "HBoxModel",
            "_view_count": null,
            "_view_module": "@jupyter-widgets/controls",
            "_view_module_version": "1.5.0",
            "_view_name": "HBoxView",
            "box_style": "",
            "children": [
              "IPY_MODEL_87b4117276a7407ba3b02a4e17b99c63",
              "IPY_MODEL_86487cc1a8be4e3986ae2d9ce01b3ec5",
              "IPY_MODEL_ed3ddf77e0ae487c875a923ba187368c"
            ],
            "layout": "IPY_MODEL_febd97f56d7c4c5884bd22b5d3f2a859"
          }
        },
        "87b4117276a7407ba3b02a4e17b99c63": {
          "model_module": "@jupyter-widgets/controls",
          "model_name": "HTMLModel",
          "model_module_version": "1.5.0",
          "state": {
            "_dom_classes": [],
            "_model_module": "@jupyter-widgets/controls",
            "_model_module_version": "1.5.0",
            "_model_name": "HTMLModel",
            "_view_count": null,
            "_view_module": "@jupyter-widgets/controls",
            "_view_module_version": "1.5.0",
            "_view_name": "HTMLView",
            "description": "",
            "description_tooltip": null,
            "layout": "IPY_MODEL_2c23ca47831d4b72ae633a61e9e47ac7",
            "placeholder": "​",
            "style": "IPY_MODEL_3a5cfcb4eb0e447a95ba3c1ec9e29bce",
            "value": "Downloading: 100%"
          }
        },
        "86487cc1a8be4e3986ae2d9ce01b3ec5": {
          "model_module": "@jupyter-widgets/controls",
          "model_name": "FloatProgressModel",
          "model_module_version": "1.5.0",
          "state": {
            "_dom_classes": [],
            "_model_module": "@jupyter-widgets/controls",
            "_model_module_version": "1.5.0",
            "_model_name": "FloatProgressModel",
            "_view_count": null,
            "_view_module": "@jupyter-widgets/controls",
            "_view_module_version": "1.5.0",
            "_view_name": "ProgressView",
            "bar_style": "success",
            "description": "",
            "description_tooltip": null,
            "layout": "IPY_MODEL_97173dbeab5e48c4b1120058c869bef2",
            "max": 65,
            "min": 0,
            "orientation": "horizontal",
            "style": "IPY_MODEL_1e1a819161f6461aa2dbd626a39c719f",
            "value": 65
          }
        },
        "ed3ddf77e0ae487c875a923ba187368c": {
          "model_module": "@jupyter-widgets/controls",
          "model_name": "HTMLModel",
          "model_module_version": "1.5.0",
          "state": {
            "_dom_classes": [],
            "_model_module": "@jupyter-widgets/controls",
            "_model_module_version": "1.5.0",
            "_model_name": "HTMLModel",
            "_view_count": null,
            "_view_module": "@jupyter-widgets/controls",
            "_view_module_version": "1.5.0",
            "_view_name": "HTMLView",
            "description": "",
            "description_tooltip": null,
            "layout": "IPY_MODEL_6a262603b65542d5b2591363cf9eb12d",
            "placeholder": "​",
            "style": "IPY_MODEL_a36cc39648e14b80b2db6165a8914eb5",
            "value": " 65.0/65.0 [00:00&lt;00:00, 728B/s]"
          }
        },
        "febd97f56d7c4c5884bd22b5d3f2a859": {
          "model_module": "@jupyter-widgets/base",
          "model_name": "LayoutModel",
          "model_module_version": "1.2.0",
          "state": {
            "_model_module": "@jupyter-widgets/base",
            "_model_module_version": "1.2.0",
            "_model_name": "LayoutModel",
            "_view_count": null,
            "_view_module": "@jupyter-widgets/base",
            "_view_module_version": "1.2.0",
            "_view_name": "LayoutView",
            "align_content": null,
            "align_items": null,
            "align_self": null,
            "border": null,
            "bottom": null,
            "display": null,
            "flex": null,
            "flex_flow": null,
            "grid_area": null,
            "grid_auto_columns": null,
            "grid_auto_flow": null,
            "grid_auto_rows": null,
            "grid_column": null,
            "grid_gap": null,
            "grid_row": null,
            "grid_template_areas": null,
            "grid_template_columns": null,
            "grid_template_rows": null,
            "height": null,
            "justify_content": null,
            "justify_items": null,
            "left": null,
            "margin": null,
            "max_height": null,
            "max_width": null,
            "min_height": null,
            "min_width": null,
            "object_fit": null,
            "object_position": null,
            "order": null,
            "overflow": null,
            "overflow_x": null,
            "overflow_y": null,
            "padding": null,
            "right": null,
            "top": null,
            "visibility": null,
            "width": null
          }
        },
        "2c23ca47831d4b72ae633a61e9e47ac7": {
          "model_module": "@jupyter-widgets/base",
          "model_name": "LayoutModel",
          "model_module_version": "1.2.0",
          "state": {
            "_model_module": "@jupyter-widgets/base",
            "_model_module_version": "1.2.0",
            "_model_name": "LayoutModel",
            "_view_count": null,
            "_view_module": "@jupyter-widgets/base",
            "_view_module_version": "1.2.0",
            "_view_name": "LayoutView",
            "align_content": null,
            "align_items": null,
            "align_self": null,
            "border": null,
            "bottom": null,
            "display": null,
            "flex": null,
            "flex_flow": null,
            "grid_area": null,
            "grid_auto_columns": null,
            "grid_auto_flow": null,
            "grid_auto_rows": null,
            "grid_column": null,
            "grid_gap": null,
            "grid_row": null,
            "grid_template_areas": null,
            "grid_template_columns": null,
            "grid_template_rows": null,
            "height": null,
            "justify_content": null,
            "justify_items": null,
            "left": null,
            "margin": null,
            "max_height": null,
            "max_width": null,
            "min_height": null,
            "min_width": null,
            "object_fit": null,
            "object_position": null,
            "order": null,
            "overflow": null,
            "overflow_x": null,
            "overflow_y": null,
            "padding": null,
            "right": null,
            "top": null,
            "visibility": null,
            "width": null
          }
        },
        "3a5cfcb4eb0e447a95ba3c1ec9e29bce": {
          "model_module": "@jupyter-widgets/controls",
          "model_name": "DescriptionStyleModel",
          "model_module_version": "1.5.0",
          "state": {
            "_model_module": "@jupyter-widgets/controls",
            "_model_module_version": "1.5.0",
            "_model_name": "DescriptionStyleModel",
            "_view_count": null,
            "_view_module": "@jupyter-widgets/base",
            "_view_module_version": "1.2.0",
            "_view_name": "StyleView",
            "description_width": ""
          }
        },
        "97173dbeab5e48c4b1120058c869bef2": {
          "model_module": "@jupyter-widgets/base",
          "model_name": "LayoutModel",
          "model_module_version": "1.2.0",
          "state": {
            "_model_module": "@jupyter-widgets/base",
            "_model_module_version": "1.2.0",
            "_model_name": "LayoutModel",
            "_view_count": null,
            "_view_module": "@jupyter-widgets/base",
            "_view_module_version": "1.2.0",
            "_view_name": "LayoutView",
            "align_content": null,
            "align_items": null,
            "align_self": null,
            "border": null,
            "bottom": null,
            "display": null,
            "flex": null,
            "flex_flow": null,
            "grid_area": null,
            "grid_auto_columns": null,
            "grid_auto_flow": null,
            "grid_auto_rows": null,
            "grid_column": null,
            "grid_gap": null,
            "grid_row": null,
            "grid_template_areas": null,
            "grid_template_columns": null,
            "grid_template_rows": null,
            "height": null,
            "justify_content": null,
            "justify_items": null,
            "left": null,
            "margin": null,
            "max_height": null,
            "max_width": null,
            "min_height": null,
            "min_width": null,
            "object_fit": null,
            "object_position": null,
            "order": null,
            "overflow": null,
            "overflow_x": null,
            "overflow_y": null,
            "padding": null,
            "right": null,
            "top": null,
            "visibility": null,
            "width": null
          }
        },
        "1e1a819161f6461aa2dbd626a39c719f": {
          "model_module": "@jupyter-widgets/controls",
          "model_name": "ProgressStyleModel",
          "model_module_version": "1.5.0",
          "state": {
            "_model_module": "@jupyter-widgets/controls",
            "_model_module_version": "1.5.0",
            "_model_name": "ProgressStyleModel",
            "_view_count": null,
            "_view_module": "@jupyter-widgets/base",
            "_view_module_version": "1.2.0",
            "_view_name": "StyleView",
            "bar_color": null,
            "description_width": ""
          }
        },
        "6a262603b65542d5b2591363cf9eb12d": {
          "model_module": "@jupyter-widgets/base",
          "model_name": "LayoutModel",
          "model_module_version": "1.2.0",
          "state": {
            "_model_module": "@jupyter-widgets/base",
            "_model_module_version": "1.2.0",
            "_model_name": "LayoutModel",
            "_view_count": null,
            "_view_module": "@jupyter-widgets/base",
            "_view_module_version": "1.2.0",
            "_view_name": "LayoutView",
            "align_content": null,
            "align_items": null,
            "align_self": null,
            "border": null,
            "bottom": null,
            "display": null,
            "flex": null,
            "flex_flow": null,
            "grid_area": null,
            "grid_auto_columns": null,
            "grid_auto_flow": null,
            "grid_auto_rows": null,
            "grid_column": null,
            "grid_gap": null,
            "grid_row": null,
            "grid_template_areas": null,
            "grid_template_columns": null,
            "grid_template_rows": null,
            "height": null,
            "justify_content": null,
            "justify_items": null,
            "left": null,
            "margin": null,
            "max_height": null,
            "max_width": null,
            "min_height": null,
            "min_width": null,
            "object_fit": null,
            "object_position": null,
            "order": null,
            "overflow": null,
            "overflow_x": null,
            "overflow_y": null,
            "padding": null,
            "right": null,
            "top": null,
            "visibility": null,
            "width": null
          }
        },
        "a36cc39648e14b80b2db6165a8914eb5": {
          "model_module": "@jupyter-widgets/controls",
          "model_name": "DescriptionStyleModel",
          "model_module_version": "1.5.0",
          "state": {
            "_model_module": "@jupyter-widgets/controls",
            "_model_module_version": "1.5.0",
            "_model_name": "DescriptionStyleModel",
            "_view_count": null,
            "_view_module": "@jupyter-widgets/base",
            "_view_module_version": "1.2.0",
            "_view_name": "StyleView",
            "description_width": ""
          }
        },
        "27ff4588f5654b1aa05bc3fb44a93d90": {
          "model_module": "@jupyter-widgets/controls",
          "model_name": "HBoxModel",
          "model_module_version": "1.5.0",
          "state": {
            "_dom_classes": [],
            "_model_module": "@jupyter-widgets/controls",
            "_model_module_version": "1.5.0",
            "_model_name": "HBoxModel",
            "_view_count": null,
            "_view_module": "@jupyter-widgets/controls",
            "_view_module_version": "1.5.0",
            "_view_name": "HBoxView",
            "box_style": "",
            "children": [
              "IPY_MODEL_8bacf99f98fd4f8b80da9bb409398cfa",
              "IPY_MODEL_1cb16c0b3afa4706899d52c4f6e1d1eb",
              "IPY_MODEL_4d32e598443a41e7b486daa9bc15cf43"
            ],
            "layout": "IPY_MODEL_64dc59b328634d06a625092513071609"
          }
        },
        "8bacf99f98fd4f8b80da9bb409398cfa": {
          "model_module": "@jupyter-widgets/controls",
          "model_name": "HTMLModel",
          "model_module_version": "1.5.0",
          "state": {
            "_dom_classes": [],
            "_model_module": "@jupyter-widgets/controls",
            "_model_module_version": "1.5.0",
            "_model_name": "HTMLModel",
            "_view_count": null,
            "_view_module": "@jupyter-widgets/controls",
            "_view_module_version": "1.5.0",
            "_view_name": "HTMLView",
            "description": "",
            "description_tooltip": null,
            "layout": "IPY_MODEL_612732a9a79e496f8b886c5de811d2c0",
            "placeholder": "​",
            "style": "IPY_MODEL_d0fe9bfeb427477dab75fe742dd9c0d5",
            "value": "Downloading: 100%"
          }
        },
        "1cb16c0b3afa4706899d52c4f6e1d1eb": {
          "model_module": "@jupyter-widgets/controls",
          "model_name": "FloatProgressModel",
          "model_module_version": "1.5.0",
          "state": {
            "_dom_classes": [],
            "_model_module": "@jupyter-widgets/controls",
            "_model_module_version": "1.5.0",
            "_model_name": "FloatProgressModel",
            "_view_count": null,
            "_view_module": "@jupyter-widgets/controls",
            "_view_module_version": "1.5.0",
            "_view_name": "ProgressView",
            "bar_style": "success",
            "description": "",
            "description_tooltip": null,
            "layout": "IPY_MODEL_6813c61fbe214e4baddf65063693ce52",
            "max": 87,
            "min": 0,
            "orientation": "horizontal",
            "style": "IPY_MODEL_4a9482c683504a0c99fa27ea497516b8",
            "value": 87
          }
        },
        "4d32e598443a41e7b486daa9bc15cf43": {
          "model_module": "@jupyter-widgets/controls",
          "model_name": "HTMLModel",
          "model_module_version": "1.5.0",
          "state": {
            "_dom_classes": [],
            "_model_module": "@jupyter-widgets/controls",
            "_model_module_version": "1.5.0",
            "_model_name": "HTMLModel",
            "_view_count": null,
            "_view_module": "@jupyter-widgets/controls",
            "_view_module_version": "1.5.0",
            "_view_name": "HTMLView",
            "description": "",
            "description_tooltip": null,
            "layout": "IPY_MODEL_d62d66bf68354c669a682a072c5d6f99",
            "placeholder": "​",
            "style": "IPY_MODEL_2c3f3db04b8b4a9aa3f9c7a496df6c95",
            "value": " 87.0/87.0 [00:00&lt;00:00, 1.39kB/s]"
          }
        },
        "64dc59b328634d06a625092513071609": {
          "model_module": "@jupyter-widgets/base",
          "model_name": "LayoutModel",
          "model_module_version": "1.2.0",
          "state": {
            "_model_module": "@jupyter-widgets/base",
            "_model_module_version": "1.2.0",
            "_model_name": "LayoutModel",
            "_view_count": null,
            "_view_module": "@jupyter-widgets/base",
            "_view_module_version": "1.2.0",
            "_view_name": "LayoutView",
            "align_content": null,
            "align_items": null,
            "align_self": null,
            "border": null,
            "bottom": null,
            "display": null,
            "flex": null,
            "flex_flow": null,
            "grid_area": null,
            "grid_auto_columns": null,
            "grid_auto_flow": null,
            "grid_auto_rows": null,
            "grid_column": null,
            "grid_gap": null,
            "grid_row": null,
            "grid_template_areas": null,
            "grid_template_columns": null,
            "grid_template_rows": null,
            "height": null,
            "justify_content": null,
            "justify_items": null,
            "left": null,
            "margin": null,
            "max_height": null,
            "max_width": null,
            "min_height": null,
            "min_width": null,
            "object_fit": null,
            "object_position": null,
            "order": null,
            "overflow": null,
            "overflow_x": null,
            "overflow_y": null,
            "padding": null,
            "right": null,
            "top": null,
            "visibility": null,
            "width": null
          }
        },
        "612732a9a79e496f8b886c5de811d2c0": {
          "model_module": "@jupyter-widgets/base",
          "model_name": "LayoutModel",
          "model_module_version": "1.2.0",
          "state": {
            "_model_module": "@jupyter-widgets/base",
            "_model_module_version": "1.2.0",
            "_model_name": "LayoutModel",
            "_view_count": null,
            "_view_module": "@jupyter-widgets/base",
            "_view_module_version": "1.2.0",
            "_view_name": "LayoutView",
            "align_content": null,
            "align_items": null,
            "align_self": null,
            "border": null,
            "bottom": null,
            "display": null,
            "flex": null,
            "flex_flow": null,
            "grid_area": null,
            "grid_auto_columns": null,
            "grid_auto_flow": null,
            "grid_auto_rows": null,
            "grid_column": null,
            "grid_gap": null,
            "grid_row": null,
            "grid_template_areas": null,
            "grid_template_columns": null,
            "grid_template_rows": null,
            "height": null,
            "justify_content": null,
            "justify_items": null,
            "left": null,
            "margin": null,
            "max_height": null,
            "max_width": null,
            "min_height": null,
            "min_width": null,
            "object_fit": null,
            "object_position": null,
            "order": null,
            "overflow": null,
            "overflow_x": null,
            "overflow_y": null,
            "padding": null,
            "right": null,
            "top": null,
            "visibility": null,
            "width": null
          }
        },
        "d0fe9bfeb427477dab75fe742dd9c0d5": {
          "model_module": "@jupyter-widgets/controls",
          "model_name": "DescriptionStyleModel",
          "model_module_version": "1.5.0",
          "state": {
            "_model_module": "@jupyter-widgets/controls",
            "_model_module_version": "1.5.0",
            "_model_name": "DescriptionStyleModel",
            "_view_count": null,
            "_view_module": "@jupyter-widgets/base",
            "_view_module_version": "1.2.0",
            "_view_name": "StyleView",
            "description_width": ""
          }
        },
        "6813c61fbe214e4baddf65063693ce52": {
          "model_module": "@jupyter-widgets/base",
          "model_name": "LayoutModel",
          "model_module_version": "1.2.0",
          "state": {
            "_model_module": "@jupyter-widgets/base",
            "_model_module_version": "1.2.0",
            "_model_name": "LayoutModel",
            "_view_count": null,
            "_view_module": "@jupyter-widgets/base",
            "_view_module_version": "1.2.0",
            "_view_name": "LayoutView",
            "align_content": null,
            "align_items": null,
            "align_self": null,
            "border": null,
            "bottom": null,
            "display": null,
            "flex": null,
            "flex_flow": null,
            "grid_area": null,
            "grid_auto_columns": null,
            "grid_auto_flow": null,
            "grid_auto_rows": null,
            "grid_column": null,
            "grid_gap": null,
            "grid_row": null,
            "grid_template_areas": null,
            "grid_template_columns": null,
            "grid_template_rows": null,
            "height": null,
            "justify_content": null,
            "justify_items": null,
            "left": null,
            "margin": null,
            "max_height": null,
            "max_width": null,
            "min_height": null,
            "min_width": null,
            "object_fit": null,
            "object_position": null,
            "order": null,
            "overflow": null,
            "overflow_x": null,
            "overflow_y": null,
            "padding": null,
            "right": null,
            "top": null,
            "visibility": null,
            "width": null
          }
        },
        "4a9482c683504a0c99fa27ea497516b8": {
          "model_module": "@jupyter-widgets/controls",
          "model_name": "ProgressStyleModel",
          "model_module_version": "1.5.0",
          "state": {
            "_model_module": "@jupyter-widgets/controls",
            "_model_module_version": "1.5.0",
            "_model_name": "ProgressStyleModel",
            "_view_count": null,
            "_view_module": "@jupyter-widgets/base",
            "_view_module_version": "1.2.0",
            "_view_name": "StyleView",
            "bar_color": null,
            "description_width": ""
          }
        },
        "d62d66bf68354c669a682a072c5d6f99": {
          "model_module": "@jupyter-widgets/base",
          "model_name": "LayoutModel",
          "model_module_version": "1.2.0",
          "state": {
            "_model_module": "@jupyter-widgets/base",
            "_model_module_version": "1.2.0",
            "_model_name": "LayoutModel",
            "_view_count": null,
            "_view_module": "@jupyter-widgets/base",
            "_view_module_version": "1.2.0",
            "_view_name": "LayoutView",
            "align_content": null,
            "align_items": null,
            "align_self": null,
            "border": null,
            "bottom": null,
            "display": null,
            "flex": null,
            "flex_flow": null,
            "grid_area": null,
            "grid_auto_columns": null,
            "grid_auto_flow": null,
            "grid_auto_rows": null,
            "grid_column": null,
            "grid_gap": null,
            "grid_row": null,
            "grid_template_areas": null,
            "grid_template_columns": null,
            "grid_template_rows": null,
            "height": null,
            "justify_content": null,
            "justify_items": null,
            "left": null,
            "margin": null,
            "max_height": null,
            "max_width": null,
            "min_height": null,
            "min_width": null,
            "object_fit": null,
            "object_position": null,
            "order": null,
            "overflow": null,
            "overflow_x": null,
            "overflow_y": null,
            "padding": null,
            "right": null,
            "top": null,
            "visibility": null,
            "width": null
          }
        },
        "2c3f3db04b8b4a9aa3f9c7a496df6c95": {
          "model_module": "@jupyter-widgets/controls",
          "model_name": "DescriptionStyleModel",
          "model_module_version": "1.5.0",
          "state": {
            "_model_module": "@jupyter-widgets/controls",
            "_model_module_version": "1.5.0",
            "_model_name": "DescriptionStyleModel",
            "_view_count": null,
            "_view_module": "@jupyter-widgets/base",
            "_view_module_version": "1.2.0",
            "_view_name": "StyleView",
            "description_width": ""
          }
        },
        "6094f30091c0465ba48d560dbd7de07a": {
          "model_module": "@jupyter-widgets/controls",
          "model_name": "HBoxModel",
          "model_module_version": "1.5.0",
          "state": {
            "_dom_classes": [],
            "_model_module": "@jupyter-widgets/controls",
            "_model_module_version": "1.5.0",
            "_model_name": "HBoxModel",
            "_view_count": null,
            "_view_module": "@jupyter-widgets/controls",
            "_view_module_version": "1.5.0",
            "_view_name": "HBoxView",
            "box_style": "",
            "children": [
              "IPY_MODEL_5f817f8995db4886876079a1a0ab5ef5",
              "IPY_MODEL_9bc4190f0efb4e028377947b47974023",
              "IPY_MODEL_7216cdcaaa3742aea4e6840a7c980065"
            ],
            "layout": "IPY_MODEL_06ff933db7644dfbb9fcdbca5a0e921c"
          }
        },
        "5f817f8995db4886876079a1a0ab5ef5": {
          "model_module": "@jupyter-widgets/controls",
          "model_name": "HTMLModel",
          "model_module_version": "1.5.0",
          "state": {
            "_dom_classes": [],
            "_model_module": "@jupyter-widgets/controls",
            "_model_module_version": "1.5.0",
            "_model_name": "HTMLModel",
            "_view_count": null,
            "_view_module": "@jupyter-widgets/controls",
            "_view_module_version": "1.5.0",
            "_view_name": "HTMLView",
            "description": "",
            "description_tooltip": null,
            "layout": "IPY_MODEL_3969f2f87e6244f188b2d3938c17cbc2",
            "placeholder": "​",
            "style": "IPY_MODEL_b03d696cb5e649ea81eaec35ccc01a7f",
            "value": "Downloading: 100%"
          }
        },
        "9bc4190f0efb4e028377947b47974023": {
          "model_module": "@jupyter-widgets/controls",
          "model_name": "FloatProgressModel",
          "model_module_version": "1.5.0",
          "state": {
            "_dom_classes": [],
            "_model_module": "@jupyter-widgets/controls",
            "_model_module_version": "1.5.0",
            "_model_name": "FloatProgressModel",
            "_view_count": null,
            "_view_module": "@jupyter-widgets/controls",
            "_view_module_version": "1.5.0",
            "_view_name": "ProgressView",
            "bar_style": "success",
            "description": "",
            "description_tooltip": null,
            "layout": "IPY_MODEL_852ce5790d384c54907e42881a85ab90",
            "max": 1392,
            "min": 0,
            "orientation": "horizontal",
            "style": "IPY_MODEL_3152d381c7ab45d48bc941bc455a9766",
            "value": 1392
          }
        },
        "7216cdcaaa3742aea4e6840a7c980065": {
          "model_module": "@jupyter-widgets/controls",
          "model_name": "HTMLModel",
          "model_module_version": "1.5.0",
          "state": {
            "_dom_classes": [],
            "_model_module": "@jupyter-widgets/controls",
            "_model_module_version": "1.5.0",
            "_model_name": "HTMLModel",
            "_view_count": null,
            "_view_module": "@jupyter-widgets/controls",
            "_view_module_version": "1.5.0",
            "_view_name": "HTMLView",
            "description": "",
            "description_tooltip": null,
            "layout": "IPY_MODEL_033bdc9bbf2244369bf0a4bbc771ffbe",
            "placeholder": "​",
            "style": "IPY_MODEL_7e33aed2b7b94fa58548165e74487310",
            "value": " 1.39k/1.39k [00:00&lt;00:00, 18.5kB/s]"
          }
        },
        "06ff933db7644dfbb9fcdbca5a0e921c": {
          "model_module": "@jupyter-widgets/base",
          "model_name": "LayoutModel",
          "model_module_version": "1.2.0",
          "state": {
            "_model_module": "@jupyter-widgets/base",
            "_model_module_version": "1.2.0",
            "_model_name": "LayoutModel",
            "_view_count": null,
            "_view_module": "@jupyter-widgets/base",
            "_view_module_version": "1.2.0",
            "_view_name": "LayoutView",
            "align_content": null,
            "align_items": null,
            "align_self": null,
            "border": null,
            "bottom": null,
            "display": null,
            "flex": null,
            "flex_flow": null,
            "grid_area": null,
            "grid_auto_columns": null,
            "grid_auto_flow": null,
            "grid_auto_rows": null,
            "grid_column": null,
            "grid_gap": null,
            "grid_row": null,
            "grid_template_areas": null,
            "grid_template_columns": null,
            "grid_template_rows": null,
            "height": null,
            "justify_content": null,
            "justify_items": null,
            "left": null,
            "margin": null,
            "max_height": null,
            "max_width": null,
            "min_height": null,
            "min_width": null,
            "object_fit": null,
            "object_position": null,
            "order": null,
            "overflow": null,
            "overflow_x": null,
            "overflow_y": null,
            "padding": null,
            "right": null,
            "top": null,
            "visibility": null,
            "width": null
          }
        },
        "3969f2f87e6244f188b2d3938c17cbc2": {
          "model_module": "@jupyter-widgets/base",
          "model_name": "LayoutModel",
          "model_module_version": "1.2.0",
          "state": {
            "_model_module": "@jupyter-widgets/base",
            "_model_module_version": "1.2.0",
            "_model_name": "LayoutModel",
            "_view_count": null,
            "_view_module": "@jupyter-widgets/base",
            "_view_module_version": "1.2.0",
            "_view_name": "LayoutView",
            "align_content": null,
            "align_items": null,
            "align_self": null,
            "border": null,
            "bottom": null,
            "display": null,
            "flex": null,
            "flex_flow": null,
            "grid_area": null,
            "grid_auto_columns": null,
            "grid_auto_flow": null,
            "grid_auto_rows": null,
            "grid_column": null,
            "grid_gap": null,
            "grid_row": null,
            "grid_template_areas": null,
            "grid_template_columns": null,
            "grid_template_rows": null,
            "height": null,
            "justify_content": null,
            "justify_items": null,
            "left": null,
            "margin": null,
            "max_height": null,
            "max_width": null,
            "min_height": null,
            "min_width": null,
            "object_fit": null,
            "object_position": null,
            "order": null,
            "overflow": null,
            "overflow_x": null,
            "overflow_y": null,
            "padding": null,
            "right": null,
            "top": null,
            "visibility": null,
            "width": null
          }
        },
        "b03d696cb5e649ea81eaec35ccc01a7f": {
          "model_module": "@jupyter-widgets/controls",
          "model_name": "DescriptionStyleModel",
          "model_module_version": "1.5.0",
          "state": {
            "_model_module": "@jupyter-widgets/controls",
            "_model_module_version": "1.5.0",
            "_model_name": "DescriptionStyleModel",
            "_view_count": null,
            "_view_module": "@jupyter-widgets/base",
            "_view_module_version": "1.2.0",
            "_view_name": "StyleView",
            "description_width": ""
          }
        },
        "852ce5790d384c54907e42881a85ab90": {
          "model_module": "@jupyter-widgets/base",
          "model_name": "LayoutModel",
          "model_module_version": "1.2.0",
          "state": {
            "_model_module": "@jupyter-widgets/base",
            "_model_module_version": "1.2.0",
            "_model_name": "LayoutModel",
            "_view_count": null,
            "_view_module": "@jupyter-widgets/base",
            "_view_module_version": "1.2.0",
            "_view_name": "LayoutView",
            "align_content": null,
            "align_items": null,
            "align_self": null,
            "border": null,
            "bottom": null,
            "display": null,
            "flex": null,
            "flex_flow": null,
            "grid_area": null,
            "grid_auto_columns": null,
            "grid_auto_flow": null,
            "grid_auto_rows": null,
            "grid_column": null,
            "grid_gap": null,
            "grid_row": null,
            "grid_template_areas": null,
            "grid_template_columns": null,
            "grid_template_rows": null,
            "height": null,
            "justify_content": null,
            "justify_items": null,
            "left": null,
            "margin": null,
            "max_height": null,
            "max_width": null,
            "min_height": null,
            "min_width": null,
            "object_fit": null,
            "object_position": null,
            "order": null,
            "overflow": null,
            "overflow_x": null,
            "overflow_y": null,
            "padding": null,
            "right": null,
            "top": null,
            "visibility": null,
            "width": null
          }
        },
        "3152d381c7ab45d48bc941bc455a9766": {
          "model_module": "@jupyter-widgets/controls",
          "model_name": "ProgressStyleModel",
          "model_module_version": "1.5.0",
          "state": {
            "_model_module": "@jupyter-widgets/controls",
            "_model_module_version": "1.5.0",
            "_model_name": "ProgressStyleModel",
            "_view_count": null,
            "_view_module": "@jupyter-widgets/base",
            "_view_module_version": "1.2.0",
            "_view_name": "StyleView",
            "bar_color": null,
            "description_width": ""
          }
        },
        "033bdc9bbf2244369bf0a4bbc771ffbe": {
          "model_module": "@jupyter-widgets/base",
          "model_name": "LayoutModel",
          "model_module_version": "1.2.0",
          "state": {
            "_model_module": "@jupyter-widgets/base",
            "_model_module_version": "1.2.0",
            "_model_name": "LayoutModel",
            "_view_count": null,
            "_view_module": "@jupyter-widgets/base",
            "_view_module_version": "1.2.0",
            "_view_name": "LayoutView",
            "align_content": null,
            "align_items": null,
            "align_self": null,
            "border": null,
            "bottom": null,
            "display": null,
            "flex": null,
            "flex_flow": null,
            "grid_area": null,
            "grid_auto_columns": null,
            "grid_auto_flow": null,
            "grid_auto_rows": null,
            "grid_column": null,
            "grid_gap": null,
            "grid_row": null,
            "grid_template_areas": null,
            "grid_template_columns": null,
            "grid_template_rows": null,
            "height": null,
            "justify_content": null,
            "justify_items": null,
            "left": null,
            "margin": null,
            "max_height": null,
            "max_width": null,
            "min_height": null,
            "min_width": null,
            "object_fit": null,
            "object_position": null,
            "order": null,
            "overflow": null,
            "overflow_x": null,
            "overflow_y": null,
            "padding": null,
            "right": null,
            "top": null,
            "visibility": null,
            "width": null
          }
        },
        "7e33aed2b7b94fa58548165e74487310": {
          "model_module": "@jupyter-widgets/controls",
          "model_name": "DescriptionStyleModel",
          "model_module_version": "1.5.0",
          "state": {
            "_model_module": "@jupyter-widgets/controls",
            "_model_module_version": "1.5.0",
            "_model_name": "DescriptionStyleModel",
            "_view_count": null,
            "_view_module": "@jupyter-widgets/base",
            "_view_module_version": "1.2.0",
            "_view_name": "StyleView",
            "description_width": ""
          }
        },
        "08831180610345d8a672d7f0777ec25a": {
          "model_module": "@jupyter-widgets/controls",
          "model_name": "HBoxModel",
          "model_module_version": "1.5.0",
          "state": {
            "_dom_classes": [],
            "_model_module": "@jupyter-widgets/controls",
            "_model_module_version": "1.5.0",
            "_model_name": "HBoxModel",
            "_view_count": null,
            "_view_module": "@jupyter-widgets/controls",
            "_view_module_version": "1.5.0",
            "_view_name": "HBoxView",
            "box_style": "",
            "children": [
              "IPY_MODEL_244990214abc4434baf8b2b622895a4c",
              "IPY_MODEL_4432c25cef1d42daa0286f03640338ea",
              "IPY_MODEL_79d173a42b8d45eda35d1ebe31e19f74"
            ],
            "layout": "IPY_MODEL_7384cf12419b45e4ade3f5fca6a7ba5c"
          }
        },
        "244990214abc4434baf8b2b622895a4c": {
          "model_module": "@jupyter-widgets/controls",
          "model_name": "HTMLModel",
          "model_module_version": "1.5.0",
          "state": {
            "_dom_classes": [],
            "_model_module": "@jupyter-widgets/controls",
            "_model_module_version": "1.5.0",
            "_model_name": "HTMLModel",
            "_view_count": null,
            "_view_module": "@jupyter-widgets/controls",
            "_view_module_version": "1.5.0",
            "_view_name": "HTMLView",
            "description": "",
            "description_tooltip": null,
            "layout": "IPY_MODEL_1cfa0a524ac4429cb592c016feca501d",
            "placeholder": "​",
            "style": "IPY_MODEL_b51c527dee864fc3b5431c3cda43f8a7",
            "value": "Downloading: 100%"
          }
        },
        "4432c25cef1d42daa0286f03640338ea": {
          "model_module": "@jupyter-widgets/controls",
          "model_name": "FloatProgressModel",
          "model_module_version": "1.5.0",
          "state": {
            "_dom_classes": [],
            "_model_module": "@jupyter-widgets/controls",
            "_model_module_version": "1.5.0",
            "_model_name": "FloatProgressModel",
            "_view_count": null,
            "_view_module": "@jupyter-widgets/controls",
            "_view_module_version": "1.5.0",
            "_view_name": "ProgressView",
            "bar_style": "success",
            "description": "",
            "description_tooltip": null,
            "layout": "IPY_MODEL_cce5f301d47649378a894a8bf30ee8e3",
            "max": 2275329241,
            "min": 0,
            "orientation": "horizontal",
            "style": "IPY_MODEL_24ba66c62d4f44a78a729d205d15e7b8",
            "value": 2275329241
          }
        },
        "79d173a42b8d45eda35d1ebe31e19f74": {
          "model_module": "@jupyter-widgets/controls",
          "model_name": "HTMLModel",
          "model_module_version": "1.5.0",
          "state": {
            "_dom_classes": [],
            "_model_module": "@jupyter-widgets/controls",
            "_model_module_version": "1.5.0",
            "_model_name": "HTMLModel",
            "_view_count": null,
            "_view_module": "@jupyter-widgets/controls",
            "_view_module_version": "1.5.0",
            "_view_name": "HTMLView",
            "description": "",
            "description_tooltip": null,
            "layout": "IPY_MODEL_3c015c67f8c847c39a1667f0017892be",
            "placeholder": "​",
            "style": "IPY_MODEL_fd5de173fe784a819f6d578853453b7f",
            "value": " 2.28G/2.28G [01:04&lt;00:00, 38.0MB/s]"
          }
        },
        "7384cf12419b45e4ade3f5fca6a7ba5c": {
          "model_module": "@jupyter-widgets/base",
          "model_name": "LayoutModel",
          "model_module_version": "1.2.0",
          "state": {
            "_model_module": "@jupyter-widgets/base",
            "_model_module_version": "1.2.0",
            "_model_name": "LayoutModel",
            "_view_count": null,
            "_view_module": "@jupyter-widgets/base",
            "_view_module_version": "1.2.0",
            "_view_name": "LayoutView",
            "align_content": null,
            "align_items": null,
            "align_self": null,
            "border": null,
            "bottom": null,
            "display": null,
            "flex": null,
            "flex_flow": null,
            "grid_area": null,
            "grid_auto_columns": null,
            "grid_auto_flow": null,
            "grid_auto_rows": null,
            "grid_column": null,
            "grid_gap": null,
            "grid_row": null,
            "grid_template_areas": null,
            "grid_template_columns": null,
            "grid_template_rows": null,
            "height": null,
            "justify_content": null,
            "justify_items": null,
            "left": null,
            "margin": null,
            "max_height": null,
            "max_width": null,
            "min_height": null,
            "min_width": null,
            "object_fit": null,
            "object_position": null,
            "order": null,
            "overflow": null,
            "overflow_x": null,
            "overflow_y": null,
            "padding": null,
            "right": null,
            "top": null,
            "visibility": null,
            "width": null
          }
        },
        "1cfa0a524ac4429cb592c016feca501d": {
          "model_module": "@jupyter-widgets/base",
          "model_name": "LayoutModel",
          "model_module_version": "1.2.0",
          "state": {
            "_model_module": "@jupyter-widgets/base",
            "_model_module_version": "1.2.0",
            "_model_name": "LayoutModel",
            "_view_count": null,
            "_view_module": "@jupyter-widgets/base",
            "_view_module_version": "1.2.0",
            "_view_name": "LayoutView",
            "align_content": null,
            "align_items": null,
            "align_self": null,
            "border": null,
            "bottom": null,
            "display": null,
            "flex": null,
            "flex_flow": null,
            "grid_area": null,
            "grid_auto_columns": null,
            "grid_auto_flow": null,
            "grid_auto_rows": null,
            "grid_column": null,
            "grid_gap": null,
            "grid_row": null,
            "grid_template_areas": null,
            "grid_template_columns": null,
            "grid_template_rows": null,
            "height": null,
            "justify_content": null,
            "justify_items": null,
            "left": null,
            "margin": null,
            "max_height": null,
            "max_width": null,
            "min_height": null,
            "min_width": null,
            "object_fit": null,
            "object_position": null,
            "order": null,
            "overflow": null,
            "overflow_x": null,
            "overflow_y": null,
            "padding": null,
            "right": null,
            "top": null,
            "visibility": null,
            "width": null
          }
        },
        "b51c527dee864fc3b5431c3cda43f8a7": {
          "model_module": "@jupyter-widgets/controls",
          "model_name": "DescriptionStyleModel",
          "model_module_version": "1.5.0",
          "state": {
            "_model_module": "@jupyter-widgets/controls",
            "_model_module_version": "1.5.0",
            "_model_name": "DescriptionStyleModel",
            "_view_count": null,
            "_view_module": "@jupyter-widgets/base",
            "_view_module_version": "1.2.0",
            "_view_name": "StyleView",
            "description_width": ""
          }
        },
        "cce5f301d47649378a894a8bf30ee8e3": {
          "model_module": "@jupyter-widgets/base",
          "model_name": "LayoutModel",
          "model_module_version": "1.2.0",
          "state": {
            "_model_module": "@jupyter-widgets/base",
            "_model_module_version": "1.2.0",
            "_model_name": "LayoutModel",
            "_view_count": null,
            "_view_module": "@jupyter-widgets/base",
            "_view_module_version": "1.2.0",
            "_view_name": "LayoutView",
            "align_content": null,
            "align_items": null,
            "align_self": null,
            "border": null,
            "bottom": null,
            "display": null,
            "flex": null,
            "flex_flow": null,
            "grid_area": null,
            "grid_auto_columns": null,
            "grid_auto_flow": null,
            "grid_auto_rows": null,
            "grid_column": null,
            "grid_gap": null,
            "grid_row": null,
            "grid_template_areas": null,
            "grid_template_columns": null,
            "grid_template_rows": null,
            "height": null,
            "justify_content": null,
            "justify_items": null,
            "left": null,
            "margin": null,
            "max_height": null,
            "max_width": null,
            "min_height": null,
            "min_width": null,
            "object_fit": null,
            "object_position": null,
            "order": null,
            "overflow": null,
            "overflow_x": null,
            "overflow_y": null,
            "padding": null,
            "right": null,
            "top": null,
            "visibility": null,
            "width": null
          }
        },
        "24ba66c62d4f44a78a729d205d15e7b8": {
          "model_module": "@jupyter-widgets/controls",
          "model_name": "ProgressStyleModel",
          "model_module_version": "1.5.0",
          "state": {
            "_model_module": "@jupyter-widgets/controls",
            "_model_module_version": "1.5.0",
            "_model_name": "ProgressStyleModel",
            "_view_count": null,
            "_view_module": "@jupyter-widgets/base",
            "_view_module_version": "1.2.0",
            "_view_name": "StyleView",
            "bar_color": null,
            "description_width": ""
          }
        },
        "3c015c67f8c847c39a1667f0017892be": {
          "model_module": "@jupyter-widgets/base",
          "model_name": "LayoutModel",
          "model_module_version": "1.2.0",
          "state": {
            "_model_module": "@jupyter-widgets/base",
            "_model_module_version": "1.2.0",
            "_model_name": "LayoutModel",
            "_view_count": null,
            "_view_module": "@jupyter-widgets/base",
            "_view_module_version": "1.2.0",
            "_view_name": "LayoutView",
            "align_content": null,
            "align_items": null,
            "align_self": null,
            "border": null,
            "bottom": null,
            "display": null,
            "flex": null,
            "flex_flow": null,
            "grid_area": null,
            "grid_auto_columns": null,
            "grid_auto_flow": null,
            "grid_auto_rows": null,
            "grid_column": null,
            "grid_gap": null,
            "grid_row": null,
            "grid_template_areas": null,
            "grid_template_columns": null,
            "grid_template_rows": null,
            "height": null,
            "justify_content": null,
            "justify_items": null,
            "left": null,
            "margin": null,
            "max_height": null,
            "max_width": null,
            "min_height": null,
            "min_width": null,
            "object_fit": null,
            "object_position": null,
            "order": null,
            "overflow": null,
            "overflow_x": null,
            "overflow_y": null,
            "padding": null,
            "right": null,
            "top": null,
            "visibility": null,
            "width": null
          }
        },
        "fd5de173fe784a819f6d578853453b7f": {
          "model_module": "@jupyter-widgets/controls",
          "model_name": "DescriptionStyleModel",
          "model_module_version": "1.5.0",
          "state": {
            "_model_module": "@jupyter-widgets/controls",
            "_model_module_version": "1.5.0",
            "_model_name": "DescriptionStyleModel",
            "_view_count": null,
            "_view_module": "@jupyter-widgets/base",
            "_view_module_version": "1.2.0",
            "_view_name": "StyleView",
            "description_width": ""
          }
        }
      }
    }
  },
  "cells": [
    {
      "cell_type": "markdown",
      "source": [
        "# **Abstractive Summarization**"
      ],
      "metadata": {
        "id": "7PGdoSPya4X2"
      }
    },
    {
      "cell_type": "code",
      "source": [
        "pip install youtube-transcript-api\n",
        "\n"
      ],
      "metadata": {
        "colab": {
          "base_uri": "https://localhost:8080/"
        },
        "id": "mnTLNNO-57rR",
        "outputId": "fcac6153-e2c4-4e7c-930e-50109879f1f4"
      },
      "execution_count": 1,
      "outputs": [
        {
          "output_type": "stream",
          "name": "stdout",
          "text": [
            "Looking in indexes: https://pypi.org/simple, https://us-python.pkg.dev/colab-wheels/public/simple/\n",
            "Collecting youtube-transcript-api\n",
            "  Downloading youtube_transcript_api-0.5.0-py3-none-any.whl (23 kB)\n",
            "Requirement already satisfied: requests in /usr/local/lib/python3.8/dist-packages (from youtube-transcript-api) (2.25.1)\n",
            "Requirement already satisfied: urllib3<1.27,>=1.21.1 in /usr/local/lib/python3.8/dist-packages (from requests->youtube-transcript-api) (1.24.3)\n",
            "Requirement already satisfied: certifi>=2017.4.17 in /usr/local/lib/python3.8/dist-packages (from requests->youtube-transcript-api) (2022.12.7)\n",
            "Requirement already satisfied: idna<3,>=2.5 in /usr/local/lib/python3.8/dist-packages (from requests->youtube-transcript-api) (2.10)\n",
            "Requirement already satisfied: chardet<5,>=3.0.2 in /usr/local/lib/python3.8/dist-packages (from requests->youtube-transcript-api) (4.0.0)\n",
            "Installing collected packages: youtube-transcript-api\n",
            "Successfully installed youtube-transcript-api-0.5.0\n"
          ]
        }
      ]
    },
    {
      "cell_type": "code",
      "execution_count": 21,
      "metadata": {
        "colab": {
          "base_uri": "https://localhost:8080/"
        },
        "id": "iyrmlRrF6FCx",
        "outputId": "98010142-32b3-4d27-adcf-90927f8df859"
      },
      "outputs": [
        {
          "output_type": "stream",
          "name": "stdout",
          "text": [
            "Looking in indexes: https://pypi.org/simple, https://us-python.pkg.dev/colab-wheels/public/simple/, https://download.pytorch.org/whl/nightly/cu117\n",
            "Requirement already satisfied: torch in /usr/local/lib/python3.8/dist-packages (1.13.1+cu116)\n",
            "Requirement already satisfied: torchvision in /usr/local/lib/python3.8/dist-packages (0.14.1+cu116)\n",
            "Requirement already satisfied: torchaudio in /usr/local/lib/python3.8/dist-packages (0.13.1+cu116)\n",
            "Requirement already satisfied: typing-extensions in /usr/local/lib/python3.8/dist-packages (from torch) (4.4.0)\n",
            "Requirement already satisfied: numpy in /usr/local/lib/python3.8/dist-packages (from torchvision) (1.21.6)\n",
            "Requirement already satisfied: pillow!=8.3.*,>=5.3.0 in /usr/local/lib/python3.8/dist-packages (from torchvision) (7.1.2)\n",
            "Requirement already satisfied: requests in /usr/local/lib/python3.8/dist-packages (from torchvision) (2.25.1)\n",
            "Requirement already satisfied: certifi>=2017.4.17 in /usr/local/lib/python3.8/dist-packages (from requests->torchvision) (2022.12.7)\n",
            "Requirement already satisfied: chardet<5,>=3.0.2 in /usr/local/lib/python3.8/dist-packages (from requests->torchvision) (4.0.0)\n",
            "Requirement already satisfied: urllib3<1.27,>=1.21.1 in /usr/local/lib/python3.8/dist-packages (from requests->torchvision) (1.24.3)\n",
            "Requirement already satisfied: idna<3,>=2.5 in /usr/local/lib/python3.8/dist-packages (from requests->torchvision) (2.10)\n"
          ]
        }
      ],
      "source": [
        "pip install --pre torch torchvision torchaudio --extra-index-url https://download.pytorch.org/whl/nightly/cu117\n"
      ]
    },
    {
      "cell_type": "code",
      "source": [
        "pip install scikit-learn"
      ],
      "metadata": {
        "id": "BeVxh8foG-2B"
      },
      "execution_count": null,
      "outputs": []
    },
    {
      "cell_type": "code",
      "source": [
        "pip install sentencepiece"
      ],
      "metadata": {
        "colab": {
          "base_uri": "https://localhost:8080/"
        },
        "id": "OOtBZUUn6Mz9",
        "outputId": "1c7c51c7-18da-4f8b-8c0a-3fc80655cfb5"
      },
      "execution_count": 22,
      "outputs": [
        {
          "output_type": "stream",
          "name": "stdout",
          "text": [
            "Looking in indexes: https://pypi.org/simple, https://us-python.pkg.dev/colab-wheels/public/simple/\n",
            "Collecting sentencepiece\n",
            "  Downloading sentencepiece-0.1.97-cp38-cp38-manylinux_2_17_x86_64.manylinux2014_x86_64.whl (1.3 MB)\n",
            "\u001b[2K     \u001b[90m━━━━━━━━━━━━━━━━━━━━━━━━━━━━━━━━━━━━━━━━\u001b[0m \u001b[32m1.3/1.3 MB\u001b[0m \u001b[31m11.2 MB/s\u001b[0m eta \u001b[36m0:00:00\u001b[0m\n",
            "\u001b[?25hInstalling collected packages: sentencepiece\n",
            "Successfully installed sentencepiece-0.1.97\n"
          ]
        }
      ]
    },
    {
      "cell_type": "code",
      "source": [
        "!pip install transformers"
      ],
      "metadata": {
        "colab": {
          "base_uri": "https://localhost:8080/"
        },
        "id": "CvCNCF7W6dds",
        "outputId": "27bc0a9a-7f64-47ca-d01d-759ee57f5132"
      },
      "execution_count": 23,
      "outputs": [
        {
          "output_type": "stream",
          "name": "stdout",
          "text": [
            "Looking in indexes: https://pypi.org/simple, https://us-python.pkg.dev/colab-wheels/public/simple/\n",
            "Collecting transformers\n",
            "  Downloading transformers-4.25.1-py3-none-any.whl (5.8 MB)\n",
            "\u001b[2K     \u001b[90m━━━━━━━━━━━━━━━━━━━━━━━━━━━━━━━━━━━━━━━━\u001b[0m \u001b[32m5.8/5.8 MB\u001b[0m \u001b[31m46.2 MB/s\u001b[0m eta \u001b[36m0:00:00\u001b[0m\n",
            "\u001b[?25hRequirement already satisfied: requests in /usr/local/lib/python3.8/dist-packages (from transformers) (2.25.1)\n",
            "Collecting tokenizers!=0.11.3,<0.14,>=0.11.1\n",
            "  Downloading tokenizers-0.13.2-cp38-cp38-manylinux_2_17_x86_64.manylinux2014_x86_64.whl (7.6 MB)\n",
            "\u001b[2K     \u001b[90m━━━━━━━━━━━━━━━━━━━━━━━━━━━━━━━━━━━━━━━━\u001b[0m \u001b[32m7.6/7.6 MB\u001b[0m \u001b[31m75.1 MB/s\u001b[0m eta \u001b[36m0:00:00\u001b[0m\n",
            "\u001b[?25hRequirement already satisfied: filelock in /usr/local/lib/python3.8/dist-packages (from transformers) (3.9.0)\n",
            "Collecting huggingface-hub<1.0,>=0.10.0\n",
            "  Downloading huggingface_hub-0.11.1-py3-none-any.whl (182 kB)\n",
            "\u001b[2K     \u001b[90m━━━━━━━━━━━━━━━━━━━━━━━━━━━━━━━━━━━━━━\u001b[0m \u001b[32m182.4/182.4 KB\u001b[0m \u001b[31m18.8 MB/s\u001b[0m eta \u001b[36m0:00:00\u001b[0m\n",
            "\u001b[?25hRequirement already satisfied: numpy>=1.17 in /usr/local/lib/python3.8/dist-packages (from transformers) (1.21.6)\n",
            "Requirement already satisfied: packaging>=20.0 in /usr/local/lib/python3.8/dist-packages (from transformers) (21.3)\n",
            "Requirement already satisfied: tqdm>=4.27 in /usr/local/lib/python3.8/dist-packages (from transformers) (4.64.1)\n",
            "Requirement already satisfied: pyyaml>=5.1 in /usr/local/lib/python3.8/dist-packages (from transformers) (6.0)\n",
            "Requirement already satisfied: regex!=2019.12.17 in /usr/local/lib/python3.8/dist-packages (from transformers) (2022.6.2)\n",
            "Requirement already satisfied: typing-extensions>=3.7.4.3 in /usr/local/lib/python3.8/dist-packages (from huggingface-hub<1.0,>=0.10.0->transformers) (4.4.0)\n",
            "Requirement already satisfied: pyparsing!=3.0.5,>=2.0.2 in /usr/local/lib/python3.8/dist-packages (from packaging>=20.0->transformers) (3.0.9)\n",
            "Requirement already satisfied: chardet<5,>=3.0.2 in /usr/local/lib/python3.8/dist-packages (from requests->transformers) (4.0.0)\n",
            "Requirement already satisfied: idna<3,>=2.5 in /usr/local/lib/python3.8/dist-packages (from requests->transformers) (2.10)\n",
            "Requirement already satisfied: urllib3<1.27,>=1.21.1 in /usr/local/lib/python3.8/dist-packages (from requests->transformers) (1.24.3)\n",
            "Requirement already satisfied: certifi>=2017.4.17 in /usr/local/lib/python3.8/dist-packages (from requests->transformers) (2022.12.7)\n",
            "Installing collected packages: tokenizers, huggingface-hub, transformers\n",
            "Successfully installed huggingface-hub-0.11.1 tokenizers-0.13.2 transformers-4.25.1\n"
          ]
        }
      ]
    },
    {
      "cell_type": "code",
      "source": [
        "from transformers import PegasusForConditionalGeneration, PegasusTokenizer\n",
        "from youtube_transcript_api import YouTubeTranscriptApi"
      ],
      "metadata": {
        "id": "2Vw5tUqd6RYH"
      },
      "execution_count": 24,
      "outputs": []
    },
    {
      "cell_type": "code",
      "source": [
        "tokenizer = PegasusTokenizer.from_pretrained(\"google/pegasus-xsum\")\n"
      ],
      "metadata": {
        "colab": {
          "base_uri": "https://localhost:8080/",
          "height": 145,
          "referenced_widgets": [
            "fcce7b4be6154638b9b04d2e2fc64fd8",
            "585a0e118bf64c8f97d92b8ac3903c0b",
            "68b0c9f410af44bab2f6a269209bf578",
            "206f880c893e4413b0096603c4d0c4f4",
            "20d94ed6faaf4d47b8f953f66805c4b2",
            "a8a4b4646e894045b73efab9f127a565",
            "f84d315bc2c44850a7fc44e31836f814",
            "7df6e195d57f42a0bc7a114dc48c492d",
            "40c2023e491142c684b06a97f40faeaa",
            "6ad0428a18834bcb9d632856150f1abf",
            "a30f15191d894783a1074076dc787fcb",
            "ed0cf1b370d643d2a3102d9aec3e18cc",
            "87b4117276a7407ba3b02a4e17b99c63",
            "86487cc1a8be4e3986ae2d9ce01b3ec5",
            "ed3ddf77e0ae487c875a923ba187368c",
            "febd97f56d7c4c5884bd22b5d3f2a859",
            "2c23ca47831d4b72ae633a61e9e47ac7",
            "3a5cfcb4eb0e447a95ba3c1ec9e29bce",
            "97173dbeab5e48c4b1120058c869bef2",
            "1e1a819161f6461aa2dbd626a39c719f",
            "6a262603b65542d5b2591363cf9eb12d",
            "a36cc39648e14b80b2db6165a8914eb5",
            "27ff4588f5654b1aa05bc3fb44a93d90",
            "8bacf99f98fd4f8b80da9bb409398cfa",
            "1cb16c0b3afa4706899d52c4f6e1d1eb",
            "4d32e598443a41e7b486daa9bc15cf43",
            "64dc59b328634d06a625092513071609",
            "612732a9a79e496f8b886c5de811d2c0",
            "d0fe9bfeb427477dab75fe742dd9c0d5",
            "6813c61fbe214e4baddf65063693ce52",
            "4a9482c683504a0c99fa27ea497516b8",
            "d62d66bf68354c669a682a072c5d6f99",
            "2c3f3db04b8b4a9aa3f9c7a496df6c95",
            "6094f30091c0465ba48d560dbd7de07a",
            "5f817f8995db4886876079a1a0ab5ef5",
            "9bc4190f0efb4e028377947b47974023",
            "7216cdcaaa3742aea4e6840a7c980065",
            "06ff933db7644dfbb9fcdbca5a0e921c",
            "3969f2f87e6244f188b2d3938c17cbc2",
            "b03d696cb5e649ea81eaec35ccc01a7f",
            "852ce5790d384c54907e42881a85ab90",
            "3152d381c7ab45d48bc941bc455a9766",
            "033bdc9bbf2244369bf0a4bbc771ffbe",
            "7e33aed2b7b94fa58548165e74487310"
          ]
        },
        "id": "0kaF_cRW6sQw",
        "outputId": "4af1de3f-45b5-45e9-9761-b75e21d78de3"
      },
      "execution_count": 25,
      "outputs": [
        {
          "output_type": "display_data",
          "data": {
            "text/plain": [
              "Downloading:   0%|          | 0.00/1.91M [00:00<?, ?B/s]"
            ],
            "application/vnd.jupyter.widget-view+json": {
              "version_major": 2,
              "version_minor": 0,
              "model_id": "fcce7b4be6154638b9b04d2e2fc64fd8"
            }
          },
          "metadata": {}
        },
        {
          "output_type": "display_data",
          "data": {
            "text/plain": [
              "Downloading:   0%|          | 0.00/65.0 [00:00<?, ?B/s]"
            ],
            "application/vnd.jupyter.widget-view+json": {
              "version_major": 2,
              "version_minor": 0,
              "model_id": "ed0cf1b370d643d2a3102d9aec3e18cc"
            }
          },
          "metadata": {}
        },
        {
          "output_type": "display_data",
          "data": {
            "text/plain": [
              "Downloading:   0%|          | 0.00/87.0 [00:00<?, ?B/s]"
            ],
            "application/vnd.jupyter.widget-view+json": {
              "version_major": 2,
              "version_minor": 0,
              "model_id": "27ff4588f5654b1aa05bc3fb44a93d90"
            }
          },
          "metadata": {}
        },
        {
          "output_type": "display_data",
          "data": {
            "text/plain": [
              "Downloading:   0%|          | 0.00/1.39k [00:00<?, ?B/s]"
            ],
            "application/vnd.jupyter.widget-view+json": {
              "version_major": 2,
              "version_minor": 0,
              "model_id": "6094f30091c0465ba48d560dbd7de07a"
            }
          },
          "metadata": {}
        }
      ]
    },
    {
      "cell_type": "code",
      "source": [
        "model = PegasusForConditionalGeneration.from_pretrained(\"google/pegasus-xsum\")"
      ],
      "metadata": {
        "colab": {
          "base_uri": "https://localhost:8080/",
          "height": 49,
          "referenced_widgets": [
            "08831180610345d8a672d7f0777ec25a",
            "244990214abc4434baf8b2b622895a4c",
            "4432c25cef1d42daa0286f03640338ea",
            "79d173a42b8d45eda35d1ebe31e19f74",
            "7384cf12419b45e4ade3f5fca6a7ba5c",
            "1cfa0a524ac4429cb592c016feca501d",
            "b51c527dee864fc3b5431c3cda43f8a7",
            "cce5f301d47649378a894a8bf30ee8e3",
            "24ba66c62d4f44a78a729d205d15e7b8",
            "3c015c67f8c847c39a1667f0017892be",
            "fd5de173fe784a819f6d578853453b7f"
          ]
        },
        "id": "wKFHatxW6RbI",
        "outputId": "586f70cf-9339-4420-f201-5562a14c3ec8"
      },
      "execution_count": 26,
      "outputs": [
        {
          "output_type": "display_data",
          "data": {
            "text/plain": [
              "Downloading:   0%|          | 0.00/2.28G [00:00<?, ?B/s]"
            ],
            "application/vnd.jupyter.widget-view+json": {
              "version_major": 2,
              "version_minor": 0,
              "model_id": "08831180610345d8a672d7f0777ec25a"
            }
          },
          "metadata": {}
        }
      ]
    },
    {
      "cell_type": "code",
      "source": [
        "av = YouTubeTranscriptApi.get_transcript('Z6nkEZyS9nA', languages=['en'])"
      ],
      "metadata": {
        "id": "1trPqhjw6KZW"
      },
      "execution_count": 6,
      "outputs": []
    },
    {
      "cell_type": "code",
      "source": [
        "t=[]\n",
        "for m in av:\n",
        "  main_txt = (m['text'])\n",
        "  t.append(main_txt)"
      ],
      "metadata": {
        "colab": {
          "base_uri": "https://localhost:8080/"
        },
        "id": "IV1qxeOY8D91",
        "outputId": "bf8795e1-7f8d-44a1-a248-c589839425f7"
      },
      "execution_count": 9,
      "outputs": [
        {
          "output_type": "stream",
          "name": "stdout",
          "text": [
            "['hello is that dr pi? yeah speaking, can you get us\\xa0\\nsome transcripts from youtube? transcripts? yeah\\xa0\\xa0', 'okay I can do that! we will be awfully grateful\\xa0\\nif you can do this lovely job all right thank you', \"hello everybody in this video we're going\\xa0\\nto look at how to get the transcript of a\\xa0\\xa0\", \"youtube video automatically so we're going to be\\xa0\\nusing python code to do this so let's look at how\\xa0\\xa0\", \"we're going to get about it so firstly we want\\xa0\\nto get the id of the youtube video so the id is\\xa0\\xa0\", \"the last part of the url of the video that you're\\xa0\\nwatching that you want to get the transcript from\\xa0\\xa0\", \"next we want to uh we want to add the id to our\\xa0\\npython code and once we've done that we can then\\xa0\\xa0\", 'pass the output and we can save it to a text\\xa0\\nfile or we can do some NLP with it if we want so\\xa0\\xa0', \"we've all got our own reasons for passing and\\xa0\\nfor actually extracting the transcript anyway um\\xa0\\xa0\", \"obviously there's manual ways of doing this\\xa0\\nand there are browser extensions but we want\\xa0\\xa0\", 'to do this programmatically and also we\\xa0\\nmay want to do it for many many videos\\xa0\\xa0', \"so you don't want to sit there keep clicking\\xa0\\nright clicking copy and pasting and so on so\", 'as i said the part of the i part\\xa0\\nof the url which represents the id\\xa0\\xa0', \"which you will need to get is this so after the\\xa0\\nequals and there's a little gotcha actually which\\xa0\\xa0\", \"i'll show you in the code in a minute where\\xa0\\nif it begins if it begins with a backslash\\xa0\\xa0\", \"so that's what you need to do and once you've got\\xa0\\nthe video id then it's time to install pip install\\xa0\\xa0\", \"youtube dash transcript dash api and if you're\\xa0\\ndoing it the normal old-fashioned way pip install\\xa0\\xa0\", \"youtube underscore transcript underscore api or\\xa0\\nif you're using conda conda install c conda dash\\xa0\\xa0\", \"forge youtube dash transcript dash api so when you\\xa0\\ndo it on conda you've just got hyphens instead of\\xa0\\xa0\", \"underscores this is the conda page it was last\\xa0\\nupdated three months ago so it's very recent\\xa0\\xa0\", \"it's quite a new project actually only 248\\xa0\\ndownloads anyway when you've installed it\\xa0\\xa0\", \"or when you want to install it using conda you'll\\xa0\\nget a screen like this and it'll prompt you that\\xa0\\xa0\", 'you need to uh update or install the following\\xa0\\npackages ca certificates certified and conda\\xa0\\xa0', \"and just say yes to agree to these they're quite\\xa0\\nsmall um right this is the this is a screenshot of\\xa0\\xa0\", \"the of the uh the the this is a screenshot of the\\xa0\\ndocumentation couldn't get my words out then not\\xa0\\xa0\", \"getting seen honestly it's just uh like a coffee\\xa0\\nright from youtube underscore transcript api\\xa0\\xa0\", 'import use youtube transcript api so just copy and\\xa0\\npaste that from the documentation then this is the\\xa0\\xa0', 'good bit youtube youtube transcript api dot get\\xa0\\nunderscore transcript and then a brackets video id\\xa0\\xa0', \"so there's no um there's no quotes or anything for\\xa0\\nthat so just paste it straight into the brackets\\xa0\\xa0\", \"and if you were to copy what they've shown\\xa0\\nhere you would actually just get a large\\xa0\\xa0\", 'um large python dictionary insert or multiple\\xa0\\npython dictionaries inside the list so\\xa0\\xa0', \"in a minute i'll show you some code and\\xa0\\ni'll show you how to actually extract that\\xa0\\xa0\", 'if you want different languages you\\xa0\\ncan specify different languages so\\xa0\\xa0', 'what it does is actually checks in sequence so\\xa0\\nit will check if you put d e then it will check\\xa0\\xa0', 'for a german transcript first and then english\\xa0\\nand so on and so on so you can put many many\\xa0\\xa0', 'different flavors there and uh yeah it will\\xa0\\ntry and get the one that you want in sequence\\xa0\\xa0', 'in order of priority um right so this is some\\xa0\\ncode this is what we will get when we run it so\\xa0\\xa0', 'this is just a little taster and if you like\\xa0\\nthis code or if you like the projects rather\\xa0\\xa0', 'um then donate if possible to jonas de poire at\\xa0\\nweb dot d e uh go to the go to the documentation\\xa0\\xa0', \"and you will see his donate button there and\\xa0\\nif you like what i do then don't forget to\\xa0\\xa0\", \"check out red and green which is my website and\\xa0\\nthere's links to various different things we got\\xa0\\xa0\", 'a bit of network automation my github page my\\xa0\\nblog where i just put a few technical notes\\xa0\\xa0', 'rather than more than a few even data\\xa0\\nextraction challenges using jquery\\xa0\\xa0', \"and working with json and apis and there we\\xa0\\ngo so if you'd like to see some actual code\\xa0\\xa0\", \"okay so we've done the conda install we've\\xa0\\ninstalled youtube transcript api if you want to do\\xa0\\xa0\", \"it with pip then you don't need to do the cond a\\xa0\\nbit so this is where we do the import the module\\xa0\\xa0\", 'from youtube transcript api import youtube\\xa0\\ntranscript api then um just a quick note here\\xa0\\xa0', 'you can have a list of just a couple of settings\\xa0\\nso as i mentioned just now this is a note about\\xa0\\xa0', 'the language settings and um also with regard to\\xa0\\nthe video id if the video id starts with a hyphen\\xa0\\xa0', \"you'll have to mask the hyphen using the\", \"backslash so yeah if it's got a hyphen at the\\xa0\\nstart you just need to put a backslash otherwise\\xa0\\xa0\", \"the uh the code will think that it's an\\xa0\\nargument or think it's an argument name\\xa0\\xa0\", \"so the main code if you're ready to see\\xa0\\nthat well i've already got an extracted\\xa0\\xa0\", \"video id so all i've done is just found a\\xa0\\nvideo i found one that had subtitles and\\xa0\\xa0\", \"if it doesn't have subtitles you're getting\\xa0\\nthat or you won't get an error but you'll\\xa0\\xa0\", \"get a notification saying that it it's not\\xa0\\npossible to get subtitles for this video\\xa0\\xa0\", \"so the main code out ls so that's going to be\\xa0\\nthe list which captures the output of all of the\\xa0\\xa0\", 'subtitles so tx equals youtube transcripts\\xa0\\napi dot get trans get underscore transcript\\xa0\\xa0', 'and there we can see um the parameters that you\\xa0\\npass to it so you can pass to the video id the\\xa0\\xa0', 'languages and it can also cope with proxies and\\xa0\\ncookies the default is no proxy and no cookies\\xa0\\xa0', \"so the default is also english if you don't\\xa0\\nspecify languages either so i could actually\\xa0\\xa0\", \"leave that out well i'm just for demonstration\\xa0\\npurposes i'm going to leave d e in here\\xa0\\xa0\", \"and you'll see what happens because when d\\xa0\\ne is not available it will then just go off\\xa0\\xa0\", 'and get english um be aware that these are two\\xa0\\nletter country codes uh what was i using the other\\xa0\\xa0', \"day something was using three-letter country\\xa0\\ncodes i think that may have been i don't know\\xa0\\xa0\", 'was it ginger something like that not not ginger\\xa0\\nitself but uh something i was doing with ginger\\xa0\\xa0', \"um for i in tx so for so the object which youtube\\xa0\\ntranscript api dot gets i've just called tx so\\xa0\\xa0\", \"for each item in that object so it's basically\\xa0\\nreturning a list for each item in that list\\xa0\\xa0\", \"um we want to do this so this is the bit\\xa0\\nthat you wouldn't see on the documentation\\xa0\\xa0\", \"and this is the bit that actually picks out the\\xa0\\ntext if you don't do this you'll end up with\\xa0\\xa0\", \"a json dictionary and you'll end up with start\\xa0\\ntimes end times um and so on it won't provide you\\xa0\\xa0\", \"with what you need if you're planning on working\\xa0\\nwith just the actual text for instance if you're\\xa0\\xa0\", \"about to do something with nlp um maybe it's not\\xa0\\nsentiment analysis well maybe sentiment analysis\\xa0\\xa0\", \"um you may be creating a bag of words analyzing\\xa0\\npart of speech etc etc so uh what we've got here\\xa0\\xa0\", \"is text so we're just like putting one line of\\xa0\\ntext and then we're going to append it to our list\\xa0\\xa0\", \"and um also what i'm going to do is open a\\xa0\\nnew file or append and then i'm going to write\\xa0\\xa0\", 'the text from the current line as we go\\xa0\\nthrough the video so obviously the video runs\\xa0\\xa0', 'that way because of the timings so as we go\\xa0\\nthrough time we keep getting a new line a new\\xa0\\xa0', \"line a new line new line new line so and that's\\xa0\\nwhy i've put new line here without the new line\\xa0\\xa0\", 'you just end up with a massive long you just\\xa0\\nimagine 40 minute video just with one line of text\\xa0\\xa0', \"not good right then all i've done in it just\\xa0\\nfor um a little bit of a bonus i've added in\\xa0\\xa0\", 'chrome sklearn feature extraction\\xa0\\njust added in account vectorizer\\xa0\\xa0', 'and it converts a collection of text\\xa0\\ndocuments to a matrix of token accounts\\xa0\\xa0', 'and yeah from here you could go and do\\xa0\\nyour own thing with um yeah nlp and so on\\xa0\\xa0', \"you could even reject the video if it didn't\\xa0\\nhave a certain phrase so you could go off\\xa0\\xa0\", 'and get subtitles from many many videos\\xa0\\nand rather than watching um 20 videos on', 'climate change you could get the\\xa0\\n20 transcripts and then you could\\xa0\\xa0', 'you could just search each of those\\xa0\\ntranscripts for certain words such as\\xa0\\xa0', 'polar bear maybe only three of those videos have\\xa0\\ngot the word polar bear so rather than watching\\xa0\\xa0', \"20 videos you then know that you've only got to\\xa0\\nwatch those three videos so this isn't all about\\xa0\\xa0\", 'hacking or web scraping or doing anything naughty\\xa0\\nit can be used purely to save your time and\\xa0\\xa0', 'i know youtube would probably like you to watch\\xa0\\n20 20 videos that all last an hour long but um\\xa0\\xa0', \"i think they would still be happy if you're only\\xa0\\nwatching three videos they're an hour long each\\xa0\\xa0\", \"you know three hours is better than nothing um and\\xa0\\nyou probably wouldn't sit down and watch 20 hours\\xa0\\xa0\", \"worth of videos anyway so you then what would\\xa0\\nyou do i don't know you'd probably just go off\\xa0\\xa0\", \"and read a book so with that all that being said\\xa0\\ni think it's time to actually demonstrate the code\\xa0\\xa0\", \"so what i'm just going to do is just i'll just\\xa0\\ncomment that comment out this bit for starters\\xa0\\xa0\", \"and what we'll do is we will just run the main\\xa0\\ncode which should just generate us a text file\\xa0\\xa0\", \"so if i just bring up the sidebar\\xa0\\nand you see i've already run it once\\xa0\\xa0\", \"so let's just delete that text\\xa0\\nfile and um yeah let's run it so\", \"it's run and that was when i um run my code within\\xa0\\nvs code it sends all this output to the screen\\xa0\\xa0\", 'um and it runs successfully no\\xa0\\nerror message and i know it runs\\xa0\\xa0', \"successfully because i've got that op\\xa0\\ntext file back and let's have a look so\", 'hi everyone welcome to this lecture series\\xa0\\non osi i file storage service and in this\\xa0\\xa0', \"particular module we're going to introduce\\xa0\\nthe file storage service and look at it\\xa0\\xa0\", \"some of its characteristics my name is ryan i'm\\xa0\\npart of the oracle cloud infrastructure team\\xa0\\xa0\", \"so that's pretty good i mean there's\\xa0\\nvery few kind of um errors there\\xa0\\xa0\", \"last week i was adding subtitles to my videos\\xa0\\nabout ginger and that's obviously j-i-n-j-a and\\xa0\\xa0\", 'yeah the subtitles were just calling it ginger as\\xa0\\nin g-i-n-g-e-r and had to change that everywhere\\xa0\\xa0', 'ginger obviously being a plant or a flavor flavor\\xa0\\nof biscuits right so that is the output file which\\xa0\\xa0', \"um yeah okay so so far so good before we run let's\\xa0\\njust delete that and i'll run that on it let's\\xa0\\xa0\", \"just uh test it on them on a different come on\\xa0\\ndelete i've made the font really big and it's um\\xa0\\xa0\", 'made it a bit harder to do\\xa0\\nwhat i normally do so um', \"right okay so let's just get um\\xa0\\nanother youtube video youtube\", 'and anyone got any requests', 'um', \"tell you what let's do one of my videos so if\\xa0\\nyou let's just um there's two ways of doing it\\xa0\\xa0\", 'so what the an easy way to actually get it\\xa0\\nis just to click share and then just go in\\xa0\\xa0', \"here and that's the video id there so um i said\\xa0\\nit was easy there you go right right click copy\\xa0\\xa0\", \"and um let's replace what i had in here\\xa0\\nbefore with my new video id so there we go\\xa0\\xa0\", 'and this should work because i have done\\xa0\\nthe subtitles for it so if we run it', 'may take a while wow that was only about\\xa0\\nwhat two seconds and um wow because\\xa0\\xa0', \"that's interesting i've actually enabled german\\xa0\\nsubtitles on my on my most recent videos and\\xa0\\xa0\", \"it's actually gone off and got the german and\\xa0\\ni think there's some characters missing from\\xa0\\xa0\", \"the whether it is i think it's\\xa0\\nprobably missing the on lives\\xa0\\xa0\", \"so you you've got the german translation there\\xa0\\nbecause it tries german first uh if i take\\xa0\\xa0\", \"out german from there it will just obviously\\xa0\\njust get the english so i'm gonna delete that\\xa0\\xa0\", 'run it one more time just to\\xa0\\nprove that it does multi language\\xa0\\xa0', \"and um well it's even got i don't\\xa0\\nknow why it's putting this in here\", \"oh it's not liking the new line characters is it\", 'maybe', \"don't know that's um\", \"in fact let's just open that with uh\", \"let's just open that with a different text editor\\xa0\\nshall we i'm just going to open that with um\", \"let's just open it with word pud\\xa0\\xa0\", \"this is uh i'm back on the windows machine\\xa0\\nbecause i'm i've been having some issues with\\xa0\\xa0\", 'flickering on the screen using um my linux mint\\xa0\\nand obs so here we go yeah hello everybody today\\xa0\\xa0', \"we're looking at how to scrape videos content\\xa0\\nfrom youtube so what i mean is we're going to\\xa0\\xa0\", 'download the video so yeah technically you could\\xa0\\ncall it scraping if you want or scrapping if\\xa0\\xa0', \"yeah don't get me started on scrapping\\xa0\\nso um this is just how it's rendered in\\xa0\\xa0\", \"vs code so don't worry about that it opens\\xa0\\nfine in a text editor a normal text editor\\xa0\\xa0\", \"so there we go and um right who wants to just run\\xa0\\na little bit of natural language process well it's\\xa0\\xa0\", \"not we're not really doing anything clever all\\xa0\\nwe're just doing is we're running count vectorizer\\xa0\\xa0\", 'which will um creates vectorizer\\xa0\\nobject and then it prints you\\xa0\\xa0', \"identified unique words along with their indices\\xa0\\nso um let's just run that and that'll print to\\xa0\\xa0\", \"the screen so there we go that's all the\\xa0\\nunique words uh with their indices so\", 'if we wanted we could check this text for\\xa0\\na certain word um we could check it for', 'scraping', 'scrape scraping', 'so there we go i hope this has been interesting um\\xa0\\nthe whole reason i made this video was because i\\xa0\\xa0', \"had a subscriber ask if following on from\\xa0\\nthe previous videos where i've extracted\\xa0\\xa0\", 'text from uh from the images created from uh\\xa0\\nstills taken from the video the subscriber said\\xa0\\xa0', 'could i extract the transcripts programmatically\\xa0\\nand obviously this is it this is the solution so', \"youtube transcript api and the benefit or\\xa0\\nthe beauty of it is you don't even need to\\xa0\\xa0\", 'register for an api key and an auth token and\\xa0\\nso on this is this is usable on any video so um\\xa0\\xa0', \"yeah obviously youtube haven't um blocked\\xa0\\nit or anything so um i know there's a bit\\xa0\\xa0\", \"about proxies and so on but um for all intents and\\xa0\\npurposes that's that's not needed here not in this\\xa0\\xa0\", \"example or not from the uk so perhaps if you're\\xa0\\ntrying to access this from china or somewhere\\xa0\\xa0\", \"maybe you need to use proxy i don't know um but\\xa0\\nthere we go so hopefully you've enjoyed this\\xa0\\xa0\", \"and found it useful don't forget to as usual\\xa0\\nsubscribe thumbs up um because of the algos thank\", 'you']\n"
          ]
        }
      ]
    },
    {
      "cell_type": "code",
      "source": [
        "l=[]\n",
        "for m in t:\n",
        "  s = list(m)\n",
        "  ln=[]\n",
        "  for n in s:\n",
        "    if n == '\\xa0' or n=='\\n':\n",
        "      ln.append('')\n",
        "    else:\n",
        "      ln.append(n)\n",
        "  m = ''.join(ln)\n",
        "  l.append(m)"
      ],
      "metadata": {
        "id": "q2Zlm0oJ6Kdk"
      },
      "execution_count": 16,
      "outputs": []
    },
    {
      "cell_type": "code",
      "source": [
        "l"
      ],
      "metadata": {
        "colab": {
          "base_uri": "https://localhost:8080/"
        },
        "id": "yWm9TzSm_h5P",
        "outputId": "dab28d6b-6383-4251-a39d-ada3c69347c9"
      },
      "execution_count": 17,
      "outputs": [
        {
          "output_type": "execute_result",
          "data": {
            "text/plain": [
              "['hello is that dr pi? yeah speaking, can you get ussome transcripts from youtube? transcripts? yeah',\n",
              " 'okay I can do that! we will be awfully gratefulif you can do this lovely job all right thank you',\n",
              " \"hello everybody in this video we're goingto look at how to get the transcript of a\",\n",
              " \"youtube video automatically so we're going to beusing python code to do this so let's look at how\",\n",
              " \"we're going to get about it so firstly we wantto get the id of the youtube video so the id is\",\n",
              " \"the last part of the url of the video that you'rewatching that you want to get the transcript from\",\n",
              " \"next we want to uh we want to add the id to ourpython code and once we've done that we can then\",\n",
              " 'pass the output and we can save it to a textfile or we can do some NLP with it if we want so',\n",
              " \"we've all got our own reasons for passing andfor actually extracting the transcript anyway um\",\n",
              " \"obviously there's manual ways of doing thisand there are browser extensions but we want\",\n",
              " 'to do this programmatically and also wemay want to do it for many many videos',\n",
              " \"so you don't want to sit there keep clickingright clicking copy and pasting and so on so\",\n",
              " 'as i said the part of the i partof the url which represents the id',\n",
              " \"which you will need to get is this so after theequals and there's a little gotcha actually which\",\n",
              " \"i'll show you in the code in a minute whereif it begins if it begins with a backslash\",\n",
              " \"so that's what you need to do and once you've gotthe video id then it's time to install pip install\",\n",
              " \"youtube dash transcript dash api and if you'redoing it the normal old-fashioned way pip install\",\n",
              " \"youtube underscore transcript underscore api orif you're using conda conda install c conda dash\",\n",
              " \"forge youtube dash transcript dash api so when youdo it on conda you've just got hyphens instead of\",\n",
              " \"underscores this is the conda page it was lastupdated three months ago so it's very recent\",\n",
              " \"it's quite a new project actually only 248downloads anyway when you've installed it\",\n",
              " \"or when you want to install it using conda you'llget a screen like this and it'll prompt you that\",\n",
              " 'you need to uh update or install the followingpackages ca certificates certified and conda',\n",
              " \"and just say yes to agree to these they're quitesmall um right this is the this is a screenshot of\",\n",
              " \"the of the uh the the this is a screenshot of thedocumentation couldn't get my words out then not\",\n",
              " \"getting seen honestly it's just uh like a coffeeright from youtube underscore transcript api\",\n",
              " 'import use youtube transcript api so just copy andpaste that from the documentation then this is the',\n",
              " 'good bit youtube youtube transcript api dot getunderscore transcript and then a brackets video id',\n",
              " \"so there's no um there's no quotes or anything forthat so just paste it straight into the brackets\",\n",
              " \"and if you were to copy what they've shownhere you would actually just get a large\",\n",
              " 'um large python dictionary insert or multiplepython dictionaries inside the list so',\n",
              " \"in a minute i'll show you some code andi'll show you how to actually extract that\",\n",
              " 'if you want different languages youcan specify different languages so',\n",
              " 'what it does is actually checks in sequence soit will check if you put d e then it will check',\n",
              " 'for a german transcript first and then englishand so on and so on so you can put many many',\n",
              " 'different flavors there and uh yeah it willtry and get the one that you want in sequence',\n",
              " 'in order of priority um right so this is somecode this is what we will get when we run it so',\n",
              " 'this is just a little taster and if you likethis code or if you like the projects rather',\n",
              " 'um then donate if possible to jonas de poire atweb dot d e uh go to the go to the documentation',\n",
              " \"and you will see his donate button there andif you like what i do then don't forget to\",\n",
              " \"check out red and green which is my website andthere's links to various different things we got\",\n",
              " 'a bit of network automation my github page myblog where i just put a few technical notes',\n",
              " 'rather than more than a few even dataextraction challenges using jquery',\n",
              " \"and working with json and apis and there wego so if you'd like to see some actual code\",\n",
              " \"okay so we've done the conda install we'veinstalled youtube transcript api if you want to do\",\n",
              " \"it with pip then you don't need to do the cond abit so this is where we do the import the module\",\n",
              " 'from youtube transcript api import youtubetranscript api then um just a quick note here',\n",
              " 'you can have a list of just a couple of settingsso as i mentioned just now this is a note about',\n",
              " 'the language settings and um also with regard tothe video id if the video id starts with a hyphen',\n",
              " \"you'll have to mask the hyphen using the\",\n",
              " \"backslash so yeah if it's got a hyphen at thestart you just need to put a backslash otherwise\",\n",
              " \"the uh the code will think that it's anargument or think it's an argument name\",\n",
              " \"so the main code if you're ready to seethat well i've already got an extracted\",\n",
              " \"video id so all i've done is just found avideo i found one that had subtitles and\",\n",
              " \"if it doesn't have subtitles you're gettingthat or you won't get an error but you'll\",\n",
              " \"get a notification saying that it it's notpossible to get subtitles for this video\",\n",
              " \"so the main code out ls so that's going to bethe list which captures the output of all of the\",\n",
              " 'subtitles so tx equals youtube transcriptsapi dot get trans get underscore transcript',\n",
              " 'and there we can see um the parameters that youpass to it so you can pass to the video id the',\n",
              " 'languages and it can also cope with proxies andcookies the default is no proxy and no cookies',\n",
              " \"so the default is also english if you don'tspecify languages either so i could actually\",\n",
              " \"leave that out well i'm just for demonstrationpurposes i'm going to leave d e in here\",\n",
              " \"and you'll see what happens because when de is not available it will then just go off\",\n",
              " 'and get english um be aware that these are twoletter country codes uh what was i using the other',\n",
              " \"day something was using three-letter countrycodes i think that may have been i don't know\",\n",
              " 'was it ginger something like that not not gingeritself but uh something i was doing with ginger',\n",
              " \"um for i in tx so for so the object which youtubetranscript api dot gets i've just called tx so\",\n",
              " \"for each item in that object so it's basicallyreturning a list for each item in that list\",\n",
              " \"um we want to do this so this is the bitthat you wouldn't see on the documentation\",\n",
              " \"and this is the bit that actually picks out thetext if you don't do this you'll end up with\",\n",
              " \"a json dictionary and you'll end up with starttimes end times um and so on it won't provide you\",\n",
              " \"with what you need if you're planning on workingwith just the actual text for instance if you're\",\n",
              " \"about to do something with nlp um maybe it's notsentiment analysis well maybe sentiment analysis\",\n",
              " \"um you may be creating a bag of words analyzingpart of speech etc etc so uh what we've got here\",\n",
              " \"is text so we're just like putting one line oftext and then we're going to append it to our list\",\n",
              " \"and um also what i'm going to do is open anew file or append and then i'm going to write\",\n",
              " 'the text from the current line as we gothrough the video so obviously the video runs',\n",
              " 'that way because of the timings so as we gothrough time we keep getting a new line a new',\n",
              " \"line a new line new line new line so and that'swhy i've put new line here without the new line\",\n",
              " 'you just end up with a massive long you justimagine 40 minute video just with one line of text',\n",
              " \"not good right then all i've done in it justfor um a little bit of a bonus i've added in\",\n",
              " 'chrome sklearn feature extractionjust added in account vectorizer',\n",
              " 'and it converts a collection of textdocuments to a matrix of token accounts',\n",
              " 'and yeah from here you could go and doyour own thing with um yeah nlp and so on',\n",
              " \"you could even reject the video if it didn'thave a certain phrase so you could go off\",\n",
              " 'and get subtitles from many many videosand rather than watching um 20 videos on',\n",
              " 'climate change you could get the20 transcripts and then you could',\n",
              " 'you could just search each of thosetranscripts for certain words such as',\n",
              " 'polar bear maybe only three of those videos havegot the word polar bear so rather than watching',\n",
              " \"20 videos you then know that you've only got towatch those three videos so this isn't all about\",\n",
              " 'hacking or web scraping or doing anything naughtyit can be used purely to save your time and',\n",
              " 'i know youtube would probably like you to watch20 20 videos that all last an hour long but um',\n",
              " \"i think they would still be happy if you're onlywatching three videos they're an hour long each\",\n",
              " \"you know three hours is better than nothing um andyou probably wouldn't sit down and watch 20 hours\",\n",
              " \"worth of videos anyway so you then what wouldyou do i don't know you'd probably just go off\",\n",
              " \"and read a book so with that all that being saidi think it's time to actually demonstrate the code\",\n",
              " \"so what i'm just going to do is just i'll justcomment that comment out this bit for starters\",\n",
              " \"and what we'll do is we will just run the maincode which should just generate us a text file\",\n",
              " \"so if i just bring up the sidebarand you see i've already run it once\",\n",
              " \"so let's just delete that textfile and um yeah let's run it so\",\n",
              " \"it's run and that was when i um run my code withinvs code it sends all this output to the screen\",\n",
              " 'um and it runs successfully noerror message and i know it runs',\n",
              " \"successfully because i've got that optext file back and let's have a look so\",\n",
              " 'hi everyone welcome to this lecture serieson osi i file storage service and in this',\n",
              " \"particular module we're going to introducethe file storage service and look at it\",\n",
              " \"some of its characteristics my name is ryan i'mpart of the oracle cloud infrastructure team\",\n",
              " \"so that's pretty good i mean there'svery few kind of um errors there\",\n",
              " \"last week i was adding subtitles to my videosabout ginger and that's obviously j-i-n-j-a and\",\n",
              " 'yeah the subtitles were just calling it ginger asin g-i-n-g-e-r and had to change that everywhere',\n",
              " 'ginger obviously being a plant or a flavor flavorof biscuits right so that is the output file which',\n",
              " \"um yeah okay so so far so good before we run let'sjust delete that and i'll run that on it let's\",\n",
              " \"just uh test it on them on a different come ondelete i've made the font really big and it's um\",\n",
              " 'made it a bit harder to dowhat i normally do so um',\n",
              " \"right okay so let's just get umanother youtube video youtube\",\n",
              " 'and anyone got any requests',\n",
              " 'um',\n",
              " \"tell you what let's do one of my videos so ifyou let's just um there's two ways of doing it\",\n",
              " 'so what the an easy way to actually get itis just to click share and then just go in',\n",
              " \"here and that's the video id there so um i saidit was easy there you go right right click copy\",\n",
              " \"and um let's replace what i had in herebefore with my new video id so there we go\",\n",
              " 'and this should work because i have donethe subtitles for it so if we run it',\n",
              " 'may take a while wow that was only aboutwhat two seconds and um wow because',\n",
              " \"that's interesting i've actually enabled germansubtitles on my on my most recent videos and\",\n",
              " \"it's actually gone off and got the german andi think there's some characters missing from\",\n",
              " \"the whether it is i think it'sprobably missing the on lives\",\n",
              " \"so you you've got the german translation therebecause it tries german first uh if i take\",\n",
              " \"out german from there it will just obviouslyjust get the english so i'm gonna delete that\",\n",
              " 'run it one more time just toprove that it does multi language',\n",
              " \"and um well it's even got i don'tknow why it's putting this in here\",\n",
              " \"oh it's not liking the new line characters is it\",\n",
              " 'maybe',\n",
              " \"don't know that's um\",\n",
              " \"in fact let's just open that with uh\",\n",
              " \"let's just open that with a different text editorshall we i'm just going to open that with um\",\n",
              " \"let's just open it with word pud\",\n",
              " \"this is uh i'm back on the windows machinebecause i'm i've been having some issues with\",\n",
              " 'flickering on the screen using um my linux mintand obs so here we go yeah hello everybody today',\n",
              " \"we're looking at how to scrape videos contentfrom youtube so what i mean is we're going to\",\n",
              " 'download the video so yeah technically you couldcall it scraping if you want or scrapping if',\n",
              " \"yeah don't get me started on scrappingso um this is just how it's rendered in\",\n",
              " \"vs code so don't worry about that it opensfine in a text editor a normal text editor\",\n",
              " \"so there we go and um right who wants to just runa little bit of natural language process well it's\",\n",
              " \"not we're not really doing anything clever allwe're just doing is we're running count vectorizer\",\n",
              " 'which will um creates vectorizerobject and then it prints you',\n",
              " \"identified unique words along with their indicesso um let's just run that and that'll print to\",\n",
              " \"the screen so there we go that's all theunique words uh with their indices so\",\n",
              " 'if we wanted we could check this text fora certain word um we could check it for',\n",
              " 'scraping',\n",
              " 'scrape scraping',\n",
              " 'so there we go i hope this has been interesting umthe whole reason i made this video was because i',\n",
              " \"had a subscriber ask if following on fromthe previous videos where i've extracted\",\n",
              " 'text from uh from the images created from uhstills taken from the video the subscriber said',\n",
              " 'could i extract the transcripts programmaticallyand obviously this is it this is the solution so',\n",
              " \"youtube transcript api and the benefit orthe beauty of it is you don't even need to\",\n",
              " 'register for an api key and an auth token andso on this is this is usable on any video so um',\n",
              " \"yeah obviously youtube haven't um blockedit or anything so um i know there's a bit\",\n",
              " \"about proxies and so on but um for all intents andpurposes that's that's not needed here not in this\",\n",
              " \"example or not from the uk so perhaps if you'retrying to access this from china or somewhere\",\n",
              " \"maybe you need to use proxy i don't know um butthere we go so hopefully you've enjoyed this\",\n",
              " \"and found it useful don't forget to as usualsubscribe thumbs up um because of the algos thank\",\n",
              " 'you']"
            ]
          },
          "metadata": {},
          "execution_count": 17
        }
      ]
    },
    {
      "cell_type": "code",
      "source": [
        "for_this = ' '.join(l)\n",
        "for_this"
      ],
      "metadata": {
        "colab": {
          "base_uri": "https://localhost:8080/",
          "height": 123
        },
        "id": "eYcxgMhV_vmZ",
        "outputId": "c615fa1e-23f4-4619-f850-c02b309749e5"
      },
      "execution_count": 18,
      "outputs": [
        {
          "output_type": "execute_result",
          "data": {
            "text/plain": [
              "\"hello is that dr pi? yeah speaking, can you get ussome transcripts from youtube? transcripts? yeah okay I can do that! we will be awfully gratefulif you can do this lovely job all right thank you hello everybody in this video we're goingto look at how to get the transcript of a youtube video automatically so we're going to beusing python code to do this so let's look at how we're going to get about it so firstly we wantto get the id of the youtube video so the id is the last part of the url of the video that you'rewatching that you want to get the transcript from next we want to uh we want to add the id to ourpython code and once we've done that we can then pass the output and we can save it to a textfile or we can do some NLP with it if we want so we've all got our own reasons for passing andfor actually extracting the transcript anyway um obviously there's manual ways of doing thisand there are browser extensions but we want to do this programmatically and also wemay want to do it for many many videos so you don't want to sit there keep clickingright clicking copy and pasting and so on so as i said the part of the i partof the url which represents the id which you will need to get is this so after theequals and there's a little gotcha actually which i'll show you in the code in a minute whereif it begins if it begins with a backslash so that's what you need to do and once you've gotthe video id then it's time to install pip install youtube dash transcript dash api and if you'redoing it the normal old-fashioned way pip install youtube underscore transcript underscore api orif you're using conda conda install c conda dash forge youtube dash transcript dash api so when youdo it on conda you've just got hyphens instead of underscores this is the conda page it was lastupdated three months ago so it's very recent it's quite a new project actually only 248downloads anyway when you've installed it or when you want to install it using conda you'llget a screen like this and it'll prompt you that you need to uh update or install the followingpackages ca certificates certified and conda and just say yes to agree to these they're quitesmall um right this is the this is a screenshot of the of the uh the the this is a screenshot of thedocumentation couldn't get my words out then not getting seen honestly it's just uh like a coffeeright from youtube underscore transcript api import use youtube transcript api so just copy andpaste that from the documentation then this is the good bit youtube youtube transcript api dot getunderscore transcript and then a brackets video id so there's no um there's no quotes or anything forthat so just paste it straight into the brackets and if you were to copy what they've shownhere you would actually just get a large um large python dictionary insert or multiplepython dictionaries inside the list so in a minute i'll show you some code andi'll show you how to actually extract that if you want different languages youcan specify different languages so what it does is actually checks in sequence soit will check if you put d e then it will check for a german transcript first and then englishand so on and so on so you can put many many different flavors there and uh yeah it willtry and get the one that you want in sequence in order of priority um right so this is somecode this is what we will get when we run it so this is just a little taster and if you likethis code or if you like the projects rather um then donate if possible to jonas de poire atweb dot d e uh go to the go to the documentation and you will see his donate button there andif you like what i do then don't forget to check out red and green which is my website andthere's links to various different things we got a bit of network automation my github page myblog where i just put a few technical notes rather than more than a few even dataextraction challenges using jquery and working with json and apis and there wego so if you'd like to see some actual code okay so we've done the conda install we'veinstalled youtube transcript api if you want to do it with pip then you don't need to do the cond abit so this is where we do the import the module from youtube transcript api import youtubetranscript api then um just a quick note here you can have a list of just a couple of settingsso as i mentioned just now this is a note about the language settings and um also with regard tothe video id if the video id starts with a hyphen you'll have to mask the hyphen using the backslash so yeah if it's got a hyphen at thestart you just need to put a backslash otherwise the uh the code will think that it's anargument or think it's an argument name so the main code if you're ready to seethat well i've already got an extracted video id so all i've done is just found avideo i found one that had subtitles and if it doesn't have subtitles you're gettingthat or you won't get an error but you'll get a notification saying that it it's notpossible to get subtitles for this video so the main code out ls so that's going to bethe list which captures the output of all of the subtitles so tx equals youtube transcriptsapi dot get trans get underscore transcript and there we can see um the parameters that youpass to it so you can pass to the video id the languages and it can also cope with proxies andcookies the default is no proxy and no cookies so the default is also english if you don'tspecify languages either so i could actually leave that out well i'm just for demonstrationpurposes i'm going to leave d e in here and you'll see what happens because when de is not available it will then just go off and get english um be aware that these are twoletter country codes uh what was i using the other day something was using three-letter countrycodes i think that may have been i don't know was it ginger something like that not not gingeritself but uh something i was doing with ginger um for i in tx so for so the object which youtubetranscript api dot gets i've just called tx so for each item in that object so it's basicallyreturning a list for each item in that list um we want to do this so this is the bitthat you wouldn't see on the documentation and this is the bit that actually picks out thetext if you don't do this you'll end up with a json dictionary and you'll end up with starttimes end times um and so on it won't provide you with what you need if you're planning on workingwith just the actual text for instance if you're about to do something with nlp um maybe it's notsentiment analysis well maybe sentiment analysis um you may be creating a bag of words analyzingpart of speech etc etc so uh what we've got here is text so we're just like putting one line oftext and then we're going to append it to our list and um also what i'm going to do is open anew file or append and then i'm going to write the text from the current line as we gothrough the video so obviously the video runs that way because of the timings so as we gothrough time we keep getting a new line a new line a new line new line new line so and that'swhy i've put new line here without the new line you just end up with a massive long you justimagine 40 minute video just with one line of text not good right then all i've done in it justfor um a little bit of a bonus i've added in chrome sklearn feature extractionjust added in account vectorizer and it converts a collection of textdocuments to a matrix of token accounts and yeah from here you could go and doyour own thing with um yeah nlp and so on you could even reject the video if it didn'thave a certain phrase so you could go off and get subtitles from many many videosand rather than watching um 20 videos on climate change you could get the20 transcripts and then you could you could just search each of thosetranscripts for certain words such as polar bear maybe only three of those videos havegot the word polar bear so rather than watching 20 videos you then know that you've only got towatch those three videos so this isn't all about hacking or web scraping or doing anything naughtyit can be used purely to save your time and i know youtube would probably like you to watch20 20 videos that all last an hour long but um i think they would still be happy if you're onlywatching three videos they're an hour long each you know three hours is better than nothing um andyou probably wouldn't sit down and watch 20 hours worth of videos anyway so you then what wouldyou do i don't know you'd probably just go off and read a book so with that all that being saidi think it's time to actually demonstrate the code so what i'm just going to do is just i'll justcomment that comment out this bit for starters and what we'll do is we will just run the maincode which should just generate us a text file so if i just bring up the sidebarand you see i've already run it once so let's just delete that textfile and um yeah let's run it so it's run and that was when i um run my code withinvs code it sends all this output to the screen um and it runs successfully noerror message and i know it runs successfully because i've got that optext file back and let's have a look so hi everyone welcome to this lecture serieson osi i file storage service and in this particular module we're going to introducethe file storage service and look at it some of its characteristics my name is ryan i'mpart of the oracle cloud infrastructure team so that's pretty good i mean there'svery few kind of um errors there last week i was adding subtitles to my videosabout ginger and that's obviously j-i-n-j-a and yeah the subtitles were just calling it ginger asin g-i-n-g-e-r and had to change that everywhere ginger obviously being a plant or a flavor flavorof biscuits right so that is the output file which um yeah okay so so far so good before we run let'sjust delete that and i'll run that on it let's just uh test it on them on a different come ondelete i've made the font really big and it's um made it a bit harder to dowhat i normally do so um right okay so let's just get umanother youtube video youtube and anyone got any requests um tell you what let's do one of my videos so ifyou let's just um there's two ways of doing it so what the an easy way to actually get itis just to click share and then just go in here and that's the video id there so um i saidit was easy there you go right right click copy and um let's replace what i had in herebefore with my new video id so there we go and this should work because i have donethe subtitles for it so if we run it may take a while wow that was only aboutwhat two seconds and um wow because that's interesting i've actually enabled germansubtitles on my on my most recent videos and it's actually gone off and got the german andi think there's some characters missing from the whether it is i think it'sprobably missing the on lives so you you've got the german translation therebecause it tries german first uh if i take out german from there it will just obviouslyjust get the english so i'm gonna delete that run it one more time just toprove that it does multi language and um well it's even got i don'tknow why it's putting this in here oh it's not liking the new line characters is it maybe don't know that's um in fact let's just open that with uh let's just open that with a different text editorshall we i'm just going to open that with um let's just open it with word pud this is uh i'm back on the windows machinebecause i'm i've been having some issues with flickering on the screen using um my linux mintand obs so here we go yeah hello everybody today we're looking at how to scrape videos contentfrom youtube so what i mean is we're going to download the video so yeah technically you couldcall it scraping if you want or scrapping if yeah don't get me started on scrappingso um this is just how it's rendered in vs code so don't worry about that it opensfine in a text editor a normal text editor so there we go and um right who wants to just runa little bit of natural language process well it's not we're not really doing anything clever allwe're just doing is we're running count vectorizer which will um creates vectorizerobject and then it prints you identified unique words along with their indicesso um let's just run that and that'll print to the screen so there we go that's all theunique words uh with their indices so if we wanted we could check this text fora certain word um we could check it for scraping scrape scraping so there we go i hope this has been interesting umthe whole reason i made this video was because i had a subscriber ask if following on fromthe previous videos where i've extracted text from uh from the images created from uhstills taken from the video the subscriber said could i extract the transcripts programmaticallyand obviously this is it this is the solution so youtube transcript api and the benefit orthe beauty of it is you don't even need to register for an api key and an auth token andso on this is this is usable on any video so um yeah obviously youtube haven't um blockedit or anything so um i know there's a bit about proxies and so on but um for all intents andpurposes that's that's not needed here not in this example or not from the uk so perhaps if you'retrying to access this from china or somewhere maybe you need to use proxy i don't know um butthere we go so hopefully you've enjoyed this and found it useful don't forget to as usualsubscribe thumbs up um because of the algos thank you\""
            ],
            "application/vnd.google.colaboratory.intrinsic+json": {
              "type": "string"
            }
          },
          "metadata": {},
          "execution_count": 18
        }
      ]
    },
    {
      "cell_type": "code",
      "source": [
        "text = for_this"
      ],
      "metadata": {
        "id": "89k6QcNs668G"
      },
      "execution_count": 19,
      "outputs": []
    },
    {
      "cell_type": "code",
      "source": [
        "tokens = tokenizer(for_this, truncation=True, padding=\"longest\", return_tensors=\"pt\")\n"
      ],
      "metadata": {
        "id": "jsnuB5Zv67WY"
      },
      "execution_count": 28,
      "outputs": []
    },
    {
      "cell_type": "code",
      "source": [
        "tokens"
      ],
      "metadata": {
        "colab": {
          "base_uri": "https://localhost:8080/"
        },
        "id": "sH1vufHZ69aP",
        "outputId": "d03fb8b9-39f9-409a-affe-26141d512d44"
      },
      "execution_count": 29,
      "outputs": [
        {
          "output_type": "execute_result",
          "data": {
            "text/plain": [
              "{'input_ids': tensor([[12253,   117,   120, 20850, 16356,   152, 10036,  2968,   108,   137,\n",
              "           119,   179,   214,  7574, 25425,   135, 11909,   152, 25425,   152,\n",
              "         10036,  5557,   125,   137,   171,   120,   147,   145,   138,   129,\n",
              "         42086,  4562,  2619,   119,   137,   171,   136,  1995,   494,   149,\n",
              "           268,  2041,   119, 12253,  5123,   115,   136,   545,   145,   131,\n",
              "           216,   313,   497,   286,   134,   199,   112,   179,   109, 18082,\n",
              "           113,   114, 11909,   545,  2093,   167,   145,   131,   216,   313,\n",
              "           112,   129, 12093, 25075,   929,   112,   171,   136,   167,   538,\n",
              "           131,   116,   286,   134,   199,   145,   131,   216,   313,   112,\n",
              "           179,   160,   126,   167, 25876,   145,   245,   497,   179,   109,\n",
              "         10853,   113,   109, 11909,   545,   167,   109, 10853,   117,   109,\n",
              "           289,   297,   113,   109, 20117,   113,   109,   545,   120,   119,\n",
              "           131,   216, 32406,   120,   119,   245,   112,   179,   109, 18082,\n",
              "           135,   352,   145,   245,   112, 36977,   145,   245,   112,   535,\n",
              "           109, 10853,   112,   150, 60896,   929,   111,   559,   145,   131,\n",
              "           261,   479,   120,   145,   137,   237,  1566,   109,  2940,   111,\n",
              "           145,   137,   803,   126,   112,   114,  1352, 12014,   132,   145,\n",
              "           137,   171,   181, 36789,   122,   126,   175,   145,   245,   167,\n",
              "           145,   131,   261,   149,   419,   150,   282,  1523,   118,  3618,\n",
              "           111,  1897,   589, 28170,   109, 18082,  4059, 17377,  4368,   186,\n",
              "           131,   116,  2761,   771,   113,   557,   136,   526,   186,   127,\n",
              "          2990,  8277,   155,   145,   245,   112,   171,   136,   110, 77718,\n",
              "           111,   163,   145, 14486,   245,   112,   171,   126,   118,   223,\n",
              "           223,  1903,   167,   119,   272,   131,   144,   245,   112,  2051,\n",
              "           186,   376,  3927,  6824,  3927,  1809,   111, 49827,   111,   167,\n",
              "           124,   167,   130,   532,   243,   109,   297,   113,   109,   532,\n",
              "           297,  1313,   109, 20117,   162,  3401,   109, 10853,   162,   119,\n",
              "           138,   217,   112,   179,   117,   136,   167,   244,   109, 41653,\n",
              "           116,   111,   186,   131,   116,   114,   332,   419,  6969,   589,\n",
              "           162,   532,   131,   267,   403,   119,   115,   109,   929,   115,\n",
              "           114,  1960,   241,  2619,   126,  2779,   175,   126,  2779,   122,\n",
              "           114,   247,   116, 27170,   167,   120,   131,   116,   180,   119,\n",
              "           217,   112,   171,   111,   559,   119,   131,   261,   419,   544,\n",
              "           545, 10853,   237,   126,   131,   116,   166,   112,  1886, 43615,\n",
              "          1886, 11909, 10794, 18082, 10794, 38202,   111,   175,   119,   131,\n",
              "           216, 28791,   126,   109,  1644,   459,   121, 16495,   230, 43615,\n",
              "          1886, 11909, 44582, 18082, 44582, 38202,   132,  2619,   119,   131,\n",
              "           216,   303,  5355,  3347,  5355,  3347,  1886,  2895,  5355,  3347,\n",
              "         10794, 21564, 11909, 10794, 18082, 10794, 38202,   167,   173,   119,\n",
              "          2683,   126,   124,  5355,  3347,   119,   131,   261,   188,   419,\n",
              "         56355,   116,  1088,   113, 43502,   136,   117,   109,  5355,  3347,\n",
              "           438,   126,   140,   289, 63419,   339,   590,   754,   167,   126,\n",
              "           131,   116,   221,   909,   126,   131,   116,   708,   114,   177,\n",
              "           405,   589,   209, 43731, 15327,   116,  4059,   173,   119,   131,\n",
              "           261,  1939,   126,   132,   173,   119,   245,   112,  1886,   126,\n",
              "           303,  5355,  3347,   119,   131,   267,  7372,   114,  1236,   172,\n",
              "           136,   111,   126,   131,   267,  6712,   119,   120,   119,   217,\n",
              "           112, 36977,  1597,   132,  1886,   109,   645, 36716,   116,  9073,\n",
              "          9003,  2828,   111,  5355,  3347,   111,   188,   416,  2816,   112,\n",
              "          1989,   112,   219,   157,   131,   216,   708, 11208, 17377,   268,\n",
              "           136,   117,   109,   136,   117,   114, 16135,   113,   109,   113,\n",
              "           109,     1]]), 'attention_mask': tensor([[1, 1, 1, 1, 1, 1, 1, 1, 1, 1, 1, 1, 1, 1, 1, 1, 1, 1, 1, 1, 1, 1, 1, 1,\n",
              "         1, 1, 1, 1, 1, 1, 1, 1, 1, 1, 1, 1, 1, 1, 1, 1, 1, 1, 1, 1, 1, 1, 1, 1,\n",
              "         1, 1, 1, 1, 1, 1, 1, 1, 1, 1, 1, 1, 1, 1, 1, 1, 1, 1, 1, 1, 1, 1, 1, 1,\n",
              "         1, 1, 1, 1, 1, 1, 1, 1, 1, 1, 1, 1, 1, 1, 1, 1, 1, 1, 1, 1, 1, 1, 1, 1,\n",
              "         1, 1, 1, 1, 1, 1, 1, 1, 1, 1, 1, 1, 1, 1, 1, 1, 1, 1, 1, 1, 1, 1, 1, 1,\n",
              "         1, 1, 1, 1, 1, 1, 1, 1, 1, 1, 1, 1, 1, 1, 1, 1, 1, 1, 1, 1, 1, 1, 1, 1,\n",
              "         1, 1, 1, 1, 1, 1, 1, 1, 1, 1, 1, 1, 1, 1, 1, 1, 1, 1, 1, 1, 1, 1, 1, 1,\n",
              "         1, 1, 1, 1, 1, 1, 1, 1, 1, 1, 1, 1, 1, 1, 1, 1, 1, 1, 1, 1, 1, 1, 1, 1,\n",
              "         1, 1, 1, 1, 1, 1, 1, 1, 1, 1, 1, 1, 1, 1, 1, 1, 1, 1, 1, 1, 1, 1, 1, 1,\n",
              "         1, 1, 1, 1, 1, 1, 1, 1, 1, 1, 1, 1, 1, 1, 1, 1, 1, 1, 1, 1, 1, 1, 1, 1,\n",
              "         1, 1, 1, 1, 1, 1, 1, 1, 1, 1, 1, 1, 1, 1, 1, 1, 1, 1, 1, 1, 1, 1, 1, 1,\n",
              "         1, 1, 1, 1, 1, 1, 1, 1, 1, 1, 1, 1, 1, 1, 1, 1, 1, 1, 1, 1, 1, 1, 1, 1,\n",
              "         1, 1, 1, 1, 1, 1, 1, 1, 1, 1, 1, 1, 1, 1, 1, 1, 1, 1, 1, 1, 1, 1, 1, 1,\n",
              "         1, 1, 1, 1, 1, 1, 1, 1, 1, 1, 1, 1, 1, 1, 1, 1, 1, 1, 1, 1, 1, 1, 1, 1,\n",
              "         1, 1, 1, 1, 1, 1, 1, 1, 1, 1, 1, 1, 1, 1, 1, 1, 1, 1, 1, 1, 1, 1, 1, 1,\n",
              "         1, 1, 1, 1, 1, 1, 1, 1, 1, 1, 1, 1, 1, 1, 1, 1, 1, 1, 1, 1, 1, 1, 1, 1,\n",
              "         1, 1, 1, 1, 1, 1, 1, 1, 1, 1, 1, 1, 1, 1, 1, 1, 1, 1, 1, 1, 1, 1, 1, 1,\n",
              "         1, 1, 1, 1, 1, 1, 1, 1, 1, 1, 1, 1, 1, 1, 1, 1, 1, 1, 1, 1, 1, 1, 1, 1,\n",
              "         1, 1, 1, 1, 1, 1, 1, 1, 1, 1, 1, 1, 1, 1, 1, 1, 1, 1, 1, 1, 1, 1, 1, 1,\n",
              "         1, 1, 1, 1, 1, 1, 1, 1, 1, 1, 1, 1, 1, 1, 1, 1, 1, 1, 1, 1, 1, 1, 1, 1,\n",
              "         1, 1, 1, 1, 1, 1, 1, 1, 1, 1, 1, 1, 1, 1, 1, 1, 1, 1, 1, 1, 1, 1, 1, 1,\n",
              "         1, 1, 1, 1, 1, 1, 1, 1]])}"
            ]
          },
          "metadata": {},
          "execution_count": 29
        }
      ]
    },
    {
      "cell_type": "code",
      "source": [
        "summary = model.generate(**tokens)\n"
      ],
      "metadata": {
        "id": "NBR_QYF67APN",
        "colab": {
          "base_uri": "https://localhost:8080/"
        },
        "outputId": "f112f21e-8ee0-4566-ab9d-415884926439"
      },
      "execution_count": 30,
      "outputs": [
        {
          "output_type": "stream",
          "name": "stderr",
          "text": [
            "/usr/local/lib/python3.8/dist-packages/transformers/generation/utils.py:1387: UserWarning: Neither `max_length` nor `max_new_tokens` has been set, `max_length` will default to 64 (`self.config.max_length`). Controlling `max_length` via the config is deprecated and `max_length` will be removed from the config in v5 of Transformers -- we recommend using `max_new_tokens` to control the maximum length of the generation.\n",
            "  warnings.warn(\n"
          ]
        }
      ]
    },
    {
      "cell_type": "code",
      "source": [
        "#summary"
      ],
      "metadata": {
        "id": "a--ZMttx7aii"
      },
      "execution_count": null,
      "outputs": []
    },
    {
      "cell_type": "code",
      "source": [
        "summary[0]\n"
      ],
      "metadata": {
        "colab": {
          "base_uri": "https://localhost:8080/"
        },
        "id": "2Z0YQ8pA7Be1",
        "outputId": "22ee2798-bce4-41e6-9623-87044f77c882"
      },
      "execution_count": 31,
      "outputs": [
        {
          "output_type": "execute_result",
          "data": {
            "text/plain": [
              "tensor([    0,   222,   380,   131,   116,   403,   145,   131,   216,   313,\n",
              "          112,   286,   134,   199,   112,   179, 25425,   135,  3532,   111,\n",
              "          145,   131,   216,   313,   112,   286,   134,   199,   112,   171,\n",
              "          126,   303, 25075,   167,   264,   131,   116,   180,   145,   131,\n",
              "          216,   313,   112,   171,   107,     1])"
            ]
          },
          "metadata": {},
          "execution_count": 31
        }
      ]
    },
    {
      "cell_type": "code",
      "source": [
        "tokenizer.decode(summary[0])\n"
      ],
      "metadata": {
        "colab": {
          "base_uri": "https://localhost:8080/",
          "height": 36
        },
        "id": "zExFwYGK7IRm",
        "outputId": "f443a398-ed17-4eae-9b6e-faabb435f0aa"
      },
      "execution_count": 32,
      "outputs": [
        {
          "output_type": "execute_result",
          "data": {
            "text/plain": [
              "\"<pad>In today's show we're going to look at how to get transcripts from YouTube and we're going to look at how to do it using python so here's what we're going to do.</s>\""
            ],
            "application/vnd.google.colaboratory.intrinsic+json": {
              "type": "string"
            }
          },
          "metadata": {},
          "execution_count": 32
        }
      ]
    },
    {
      "cell_type": "code",
      "source": [],
      "metadata": {
        "id": "B3ZNXPWM7KU7"
      },
      "execution_count": null,
      "outputs": []
    },
    {
      "cell_type": "markdown",
      "source": [
        "# **Building a Text Extractive Summarization**"
      ],
      "metadata": {
        "id": "K6plzQhSBgEn"
      }
    },
    {
      "cell_type": "code",
      "source": [
        "import nltk\n",
        "from gensim.models import Word2Vec\n",
        "from nltk.corpus import stopwords\n",
        "from sklearn.feature_extraction.text import TfidfVectorizer\n",
        "\n",
        "import re"
      ],
      "metadata": {
        "id": "lxLd0KXPNycz"
      },
      "execution_count": 34,
      "outputs": []
    },
    {
      "cell_type": "code",
      "source": [
        "para = l"
      ],
      "metadata": {
        "id": "-VO3txN1OBG_"
      },
      "execution_count": 35,
      "outputs": []
    },
    {
      "cell_type": "code",
      "source": [
        "para"
      ],
      "metadata": {
        "id": "TMIm0qzXCNuk"
      },
      "execution_count": null,
      "outputs": []
    },
    {
      "cell_type": "code",
      "source": [
        "#text = re.sub(r'\\[[0-9]]*\\)',' ',para)\n",
        "text = re.sub(r'\\s+',' ',text)\n",
        "text = text.lower()\n",
        "text = re.sub(r'\\d',' ',text)\n",
        "text = re.sub(r'\\s+',' ',text)"
      ],
      "metadata": {
        "id": "CeOoiLFMOFgB"
      },
      "execution_count": 38,
      "outputs": []
    },
    {
      "cell_type": "code",
      "source": [
        "#text"
      ],
      "metadata": {
        "id": "VO9LL1TdWe-x"
      },
      "execution_count": 42,
      "outputs": []
    },
    {
      "cell_type": "code",
      "source": [
        "# this cell is for those para's who dont contain fullstops.\n",
        "\n",
        "\"\"\"\n",
        "s = ''.join(text)\n",
        "m = s.split(' ')\n",
        "print(len(m))\n",
        "\n",
        "lp_run = len(m)/14\n",
        "print(lp_run)\n",
        "\n",
        "\"\"\""
      ],
      "metadata": {
        "colab": {
          "base_uri": "https://localhost:8080/",
          "height": 36
        },
        "id": "PyVh7QXXURhw",
        "outputId": "9eb36db5-1f87-42c5-be5c-7ffdfc68abb5"
      },
      "execution_count": 55,
      "outputs": [
        {
          "output_type": "execute_result",
          "data": {
            "text/plain": [
              "\"\\ns = ''.join(text)\\nm = s.split(' ')\\nprint(len(m))\\n\\nlp_run = len(m)/14\\nprint(lp_run)\\n\\n\""
            ],
            "application/vnd.google.colaboratory.intrinsic+json": {
              "type": "string"
            }
          },
          "metadata": {},
          "execution_count": 55
        }
      ]
    },
    {
      "cell_type": "code",
      "source": [
        "# this is for if para dont contain fullstops.\n",
        "\n",
        "\"\"\"\n",
        "sentt=[]\n",
        "mp=[]\n",
        "tt=0\n",
        "for k in range(len(m)):\n",
        "  if k==' ':\n",
        "    tt=tt+1\n",
        "    pass\n",
        "  elif (tt==14):\n",
        "    mp.append(m[k])\n",
        "    #print(mp)\n",
        "    sentt.append(' '.join(mp))\n",
        "    mp=[]\n",
        "    tt=0\n",
        "  else:\n",
        "    mp.append(m[k])\n",
        "    tt=tt+1\n",
        "  \n",
        "print(sentt)\n",
        "\n",
        "\"\"\""
      ],
      "metadata": {
        "colab": {
          "base_uri": "https://localhost:8080/",
          "height": 53
        },
        "id": "TzWm4ayYWiVl",
        "outputId": "b8b4e446-a86a-49b8-9adc-4b1c7f6f10c1"
      },
      "execution_count": 56,
      "outputs": [
        {
          "output_type": "execute_result",
          "data": {
            "text/plain": [
              "\"\\nsentt=[]\\nmp=[]\\ntt=0\\nfor k in range(len(m)):\\n  if k==' ':\\n    tt=tt+1\\n    pass\\n  elif (tt==14):\\n    mp.append(m[k])\\n    #print(mp)\\n    sentt.append(' '.join(mp))\\n    mp=[]\\n    tt=0\\n  else:\\n    mp.append(m[k])\\n    tt=tt+1\\n  \\nprint(sentt)\\n\\n\""
            ],
            "application/vnd.google.colaboratory.intrinsic+json": {
              "type": "string"
            }
          },
          "metadata": {},
          "execution_count": 56
        }
      ]
    },
    {
      "cell_type": "code",
      "source": [
        "#nltk.download('punkt')"
      ],
      "metadata": {
        "id": "ziDRhsKTPgsF"
      },
      "execution_count": 57,
      "outputs": []
    },
    {
      "cell_type": "code",
      "source": [
        "#sentences = nltk.sent_tokenize(text)\n",
        "#sentences"
      ],
      "metadata": {
        "id": "851yIxbtPIiF"
      },
      "execution_count": 58,
      "outputs": []
    },
    {
      "cell_type": "markdown",
      "source": [],
      "metadata": {
        "id": "UH2T8No7a0zQ"
      }
    },
    {
      "cell_type": "markdown",
      "source": [
        "**Creating TF-IDF model**"
      ],
      "metadata": {
        "id": "PM6hbkjeP049"
      }
    },
    {
      "cell_type": "code",
      "source": [
        "# Let's now create a tf-idf (Term frequnecy Inverse Document Frequency) model\n",
        "tf_idf_vectorizer = TfidfVectorizer(min_df=2,  max_features=None, \n",
        "                                    strip_accents='unicode', \n",
        "                                    analyzer='word',\n",
        "                                    token_pattern=r'\\w{1,}',\n",
        "                                    ngram_range=(1, 3), \n",
        "                                    use_idf=1,smooth_idf=1,\n",
        "                                    sublinear_tf=1,\n",
        "                                    stop_words = 'english')"
      ],
      "metadata": {
        "id": "-B7XnHaDP9uS"
      },
      "execution_count": 39,
      "outputs": []
    },
    {
      "cell_type": "code",
      "source": [
        "tf_idf_vectorizer.fit(l)"
      ],
      "metadata": {
        "colab": {
          "base_uri": "https://localhost:8080/"
        },
        "id": "porNqgyUQFrK",
        "outputId": "6ec14297-93b0-4bc6-97d0-584d6a6276a2"
      },
      "execution_count": 43,
      "outputs": [
        {
          "output_type": "execute_result",
          "data": {
            "text/plain": [
              "TfidfVectorizer(min_df=2, ngram_range=(1, 3), smooth_idf=1,\n",
              "                stop_words='english', strip_accents='unicode', sublinear_tf=1,\n",
              "                token_pattern='\\\\w{1,}', use_idf=1)"
            ]
          },
          "metadata": {},
          "execution_count": 43
        }
      ]
    },
    {
      "cell_type": "code",
      "source": [
        "sentence_vectors = tf_idf_vectorizer.transform(l)"
      ],
      "metadata": {
        "id": "iGCBcRIORx44"
      },
      "execution_count": 45,
      "outputs": []
    },
    {
      "cell_type": "code",
      "source": [
        "import numpy as np"
      ],
      "metadata": {
        "id": "NCFUK_OmDyXi"
      },
      "execution_count": 47,
      "outputs": []
    },
    {
      "cell_type": "code",
      "source": [
        "# Getting sentence scores for each sentences\n",
        "sentence_scores = np.array(sentence_vectors.sum(axis=1)).ravel()\n",
        "\n",
        "# Sanity checkup\n",
        "print(len(l) == len(sentence_scores))"
      ],
      "metadata": {
        "colab": {
          "base_uri": "https://localhost:8080/"
        },
        "id": "zSaVshcJREqO",
        "outputId": "9d2b5001-e93f-4776-9eea-8a0c310f5d6b"
      },
      "execution_count": 49,
      "outputs": [
        {
          "output_type": "stream",
          "name": "stdout",
          "text": [
            "True\n"
          ]
        }
      ]
    },
    {
      "cell_type": "code",
      "source": [
        "# Getting top-n sentences\n",
        "N = 5\n",
        "top_n_sentences = [l[ind] for ind in np.argsort(sentence_scores, axis=0)[::-1][:N]]"
      ],
      "metadata": {
        "id": "8e6XOZ6KSBFX"
      },
      "execution_count": 53,
      "outputs": []
    },
    {
      "cell_type": "code",
      "source": [
        "top_n_sentences"
      ],
      "metadata": {
        "colab": {
          "base_uri": "https://localhost:8080/"
        },
        "id": "bPBawqUKSOjA",
        "outputId": "911df2df-b8bf-4bd0-b084-9caf26f7af95"
      },
      "execution_count": 54,
      "outputs": [
        {
          "output_type": "execute_result",
          "data": {
            "text/plain": [
              "[\"let's just open that with a different text editorshall we i'm just going to open that with um\",\n",
              " \"youtube dash transcript dash api and if you'redoing it the normal old-fashioned way pip install\",\n",
              " \"forge youtube dash transcript dash api so when youdo it on conda you've just got hyphens instead of\",\n",
              " \"getting seen honestly it's just uh like a coffeeright from youtube underscore transcript api\",\n",
              " 'good bit youtube youtube transcript api dot getunderscore transcript and then a brackets video id']"
            ]
          },
          "metadata": {},
          "execution_count": 54
        }
      ]
    },
    {
      "cell_type": "code",
      "source": [],
      "metadata": {
        "id": "wGdd9pYyD6Mg"
      },
      "execution_count": null,
      "outputs": []
    },
    {
      "cell_type": "code",
      "source": [],
      "metadata": {
        "id": "1p5JhqgHHHWf"
      },
      "execution_count": null,
      "outputs": []
    },
    {
      "cell_type": "code",
      "source": [],
      "metadata": {
        "id": "t-KUSq8uHHZW"
      },
      "execution_count": null,
      "outputs": []
    },
    {
      "cell_type": "code",
      "source": [],
      "metadata": {
        "id": "FFeB0ZkEHHce"
      },
      "execution_count": null,
      "outputs": []
    },
    {
      "cell_type": "code",
      "source": [],
      "metadata": {
        "id": "hX9KB2YBHHfV"
      },
      "execution_count": null,
      "outputs": []
    },
    {
      "cell_type": "code",
      "source": [],
      "metadata": {
        "id": "zxb-M7mSHHiy"
      },
      "execution_count": null,
      "outputs": []
    },
    {
      "cell_type": "markdown",
      "source": [
        "# **Making predicative system**\n",
        "\n",
        "**Abstractive and extractive summerization**"
      ],
      "metadata": {
        "id": "agvP3zZDHIUW"
      }
    },
    {
      "cell_type": "code",
      "source": [
        "from transformers import PegasusForConditionalGeneration, PegasusTokenizer\n",
        "from youtube_transcript_api import YouTubeTranscriptApi\n",
        "\n",
        "import nltk\n",
        "from gensim.models import Word2Vec\n",
        "from nltk.corpus import stopwords\n",
        "from sklearn.feature_extraction.text import TfidfVectorizer\n",
        "import numpy as np"
      ],
      "metadata": {
        "id": "Xj-lKZGEIcp4"
      },
      "execution_count": 59,
      "outputs": []
    },
    {
      "cell_type": "code",
      "source": [
        "tokenizer = PegasusTokenizer.from_pretrained(\"google/pegasus-xsum\")\n",
        "model = PegasusForConditionalGeneration.from_pretrained(\"google/pegasus-xsum\")\n",
        "av = YouTubeTranscriptApi.get_transcript('Z6nkEZyS9nA', languages=['en'])\n",
        "t=[]\n",
        "for m in av:\n",
        "  main_txt = (m['text'])\n",
        "  t.append(main_txt)\n",
        "  \n",
        "l=[]\n",
        "for m in t:\n",
        "  s = list(m)\n",
        "  ln=[]\n",
        "  for n in s:\n",
        "    if n == '\\xa0' or n=='\\n':\n",
        "      ln.append('')\n",
        "    else:\n",
        "      ln.append(n)\n",
        "  m = ''.join(ln)\n",
        "  l.append(m)\n",
        "\n",
        "for_this = ' '.join(l)\n",
        "text = for_this\n",
        "tokens = tokenizer(for_this, truncation=True, padding=\"longest\", return_tensors=\"pt\")\n",
        "summary = model.generate(**tokens)\n",
        "summary[0]\n",
        "\n",
        "\n",
        "#\n",
        "tf_idf_vectorizer = TfidfVectorizer(min_df=2,  max_features=None, \n",
        "                                    strip_accents='unicode', \n",
        "                                    analyzer='word',\n",
        "                                    token_pattern=r'\\w{1,}',\n",
        "                                    ngram_range=(1, 3), \n",
        "                                    use_idf=1,smooth_idf=1,\n",
        "                                    sublinear_tf=1,\n",
        "                                    stop_words = 'english')\n",
        "\n",
        "tf_idf_vectorizer.fit(l)\n",
        "sentence_vectors = tf_idf_vectorizer.transform(l)\n",
        "\n",
        "# Getting sentence scores for each sentences\n",
        "sentence_scores = np.array(sentence_vectors.sum(axis=1)).ravel()\n",
        "\n",
        "# Sanity checkup\n",
        "print(len(l) == len(sentence_scores))\n",
        "N = 5\n",
        "top_n_sentences = [l[ind] for ind in np.argsort(sentence_scores, axis=0)[::-1][:N]]"
      ],
      "metadata": {
        "colab": {
          "base_uri": "https://localhost:8080/"
        },
        "id": "EnLb2AS-HHo5",
        "outputId": "082afdf7-e915-4303-a3dd-1fab7056566f"
      },
      "execution_count": 60,
      "outputs": [
        {
          "output_type": "stream",
          "name": "stderr",
          "text": [
            "/usr/local/lib/python3.8/dist-packages/transformers/generation/utils.py:1387: UserWarning: Neither `max_length` nor `max_new_tokens` has been set, `max_length` will default to 64 (`self.config.max_length`). Controlling `max_length` via the config is deprecated and `max_length` will be removed from the config in v5 of Transformers -- we recommend using `max_new_tokens` to control the maximum length of the generation.\n",
            "  warnings.warn(\n"
          ]
        },
        {
          "output_type": "stream",
          "name": "stdout",
          "text": [
            "True\n"
          ]
        }
      ]
    },
    {
      "cell_type": "code",
      "source": [
        "print(tokenizer.decode(summary[0]))\n"
      ],
      "metadata": {
        "colab": {
          "base_uri": "https://localhost:8080/"
        },
        "id": "8tRirJiyH9l9",
        "outputId": "2583bc0a-a6c2-4260-8cf1-bfa91c072d52"
      },
      "execution_count": 66,
      "outputs": [
        {
          "output_type": "stream",
          "name": "stdout",
          "text": [
            "<pad>In today's show we're going to look at how to get transcripts from YouTube and we're going to look at how to do it using python so here's what we're going to do.</s>\n"
          ]
        }
      ]
    },
    {
      "cell_type": "code",
      "source": [
        "print(' '.join(top_n_sentences))"
      ],
      "metadata": {
        "colab": {
          "base_uri": "https://localhost:8080/"
        },
        "id": "FeNaj2N7I9cv",
        "outputId": "8a1eb35e-c0aa-480c-d3d8-69d562db8ebc"
      },
      "execution_count": 65,
      "outputs": [
        {
          "output_type": "stream",
          "name": "stdout",
          "text": [
            "let's just open that with a different text editorshall we i'm just going to open that with um youtube dash transcript dash api and if you'redoing it the normal old-fashioned way pip install forge youtube dash transcript dash api so when youdo it on conda you've just got hyphens instead of getting seen honestly it's just uh like a coffeeright from youtube underscore transcript api good bit youtube youtube transcript api dot getunderscore transcript and then a brackets video id\n"
          ]
        }
      ]
    },
    {
      "cell_type": "code",
      "source": [],
      "metadata": {
        "id": "BUFsxb3RI-7q"
      },
      "execution_count": null,
      "outputs": []
    }
  ]
}